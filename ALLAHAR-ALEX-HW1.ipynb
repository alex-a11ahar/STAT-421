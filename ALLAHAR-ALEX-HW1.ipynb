{
  "cells": [
    {
      "cell_type": "markdown",
      "metadata": {
        "id": "YAjfwfJnbOA9"
      },
      "source": [
        "# HW 1 - Statistical learning and Optimization\n",
        "\n",
        "Complete the following questions and resubmit this entire notebook to canvas.\n",
        "- For questions that ask you to derive or find a quantity use a __text cell__ to show your calculations.\n",
        " - Use markdown to write math expressions (as was done to create these problems) and make sure to show your work.\n",
        " - It doesnt have to be perfect looking but it needs to be readible and clear. No extraneous work please.\n",
        "- For questions that ask you compute something or write code use a __code cell__ to write your code.\n",
        " - You can create additional code cells as needed.\n",
        " - Just make sure your code is commented, the functions are named appropriately, and its easy to see your final answer.\n",
        "- The total points on this homework is 100. Out of these 5 points are reserved for clarity of presentation,\n",
        "punctuation and commenting with respect to the code.\n",
        "\n",
        "__SUBMISSION__\n",
        "\n",
        "When you submit you will submit a pdf file __and__ the notebook file. The TA will use the pdf file to grade more quickly. The notebook file is there to confirm your work.\n",
        "\n",
        "To generate a pdf file\n",
        "1. Click File\n",
        "2. Click print\n",
        "3. Set the destinationas \"save as pdf\"\n",
        "4. Hit print\n",
        "\n",
        "Title the pdf file `LASTNAME-FIRSTNAME-HW1.pdf`\n",
        "Title your notebook file as `LASTNAME-FIRSTNAME-HW1.ipynb`\n",
        "\n",
        "Submit both files.\n",
        "\n",
        "Do not actually print your notebook out (what year is this?)\n",
        "\n"
      ]
    },
    {
      "cell_type": "code",
      "execution_count": 227,
      "metadata": {
        "id": "Z7fU1R7lWJy0"
      },
      "outputs": [],
      "source": [
        "# libraries and functions you may find useful\n",
        "import math\n",
        "import numpy as np\n",
        "import pandas as pd\n",
        "import matplotlib.pyplot as plt\n",
        "import torch\n",
        "from sklearn.model_selection import train_test_split\n",
        "from tqdm.notebook import trange"
      ]
    },
    {
      "cell_type": "markdown",
      "metadata": {
        "id": "7zQ7vuKeOjNA"
      },
      "source": [
        "# Q1 - Linear Algebra and Probability Review (20 points)\n",
        "\n",
        "    "
      ]
    },
    {
      "cell_type": "markdown",
      "metadata": {
        "id": "FD-HTVmmPdLQ"
      },
      "source": [
        "## part 1 - Basic Operations (6 points)\n",
        "\n",
        " Compute the following operations using functions from **pytorch**\n",
        "\n",
        "  1. $$\\begin{pmatrix} 1 & 2 \\\\ 4 & 5  \\end{pmatrix} + \\begin{pmatrix} -1 & 2 \\\\ -3 & 4 \\end{pmatrix}$$\n",
        "\n",
        "  2. $$\\begin{pmatrix} 1 & 2 & 3\\\\ 4 & 5 & 6 \\end{pmatrix} \\begin{pmatrix} -1 & 2 \\\\ -3 & 4\\\\-5 & 6 \\end{pmatrix}$$\n",
        "\n",
        "  3. $$\\begin{pmatrix} 1 & 1 & -1\\\\ -1 & 1 & -1 \\\\ 1 & -1 & 1\\end{pmatrix} \\begin{pmatrix} 4 \\\\ -3 \\\\ -2 \\end{pmatrix}$$\n",
        "\n",
        "  4. $$\\begin{pmatrix} 1 & 4 & 3 \\\\ 4 & 2 & -6  \\\\ -1 & -2 & 1 \\end{pmatrix}^T$$\n",
        "\n",
        "  5. $$\\begin{pmatrix} 1 & 4 & 3 \\\\ 4 & 2 & -6  \\\\ -1 & -2 & 1 \\end{pmatrix}^{-1}$$\n",
        "  \n",
        "  6. $$\\text{det} \\begin{pmatrix} 1 & 4 & 3 \\\\ 4 & 2 & -6  \\\\ -1 & -2 & 1 \\end{pmatrix}$$"
      ]
    },
    {
      "cell_type": "code",
      "execution_count": 228,
      "metadata": {
        "colab": {
          "base_uri": "https://localhost:8080/"
        },
        "id": "rulj59NjPcBb",
        "outputId": "9c6beba9-399d-43b8-9913-de723e43c59b"
      },
      "outputs": [
        {
          "name": "stdout",
          "output_type": "stream",
          "text": [
            "Result (A + B):\n",
            " tensor([[0, 4],\n",
            "        [1, 9]])\n"
          ]
        }
      ],
      "source": [
        "# q1\n",
        "\n",
        "# Create tensor_a from matrix_a above\n",
        "tensor_a = torch.tensor([[1, 2],\n",
        "                         [4, 5]])\n",
        "\n",
        "# Create tensor_b from matrix_b above\n",
        "tensor_b = torch.tensor([[-1, 2],\n",
        "                         [-3, 4]])\n",
        "\n",
        "# Add the two matrices together element by element\n",
        "result = tensor_a + tensor_b\n",
        "\n",
        "# Print Result\n",
        "print(\"Result (A + B):\\n\", result)\n"
      ]
    },
    {
      "cell_type": "code",
      "execution_count": 229,
      "metadata": {
        "colab": {
          "base_uri": "https://localhost:8080/"
        },
        "id": "zAQ9P4SxdEhy",
        "outputId": "c94b8a7a-fbcd-49af-ad17-3bb77be53575"
      },
      "outputs": [
        {
          "name": "stdout",
          "output_type": "stream",
          "text": [
            "Result (C * D):\n",
            " tensor([[-22,  28],\n",
            "        [-49,  64]])\n"
          ]
        }
      ],
      "source": [
        "# q2\n",
        "\n",
        "# Create tensor_c from the first matrix\n",
        "tensor_c = torch.tensor([[1, 2, 3],\n",
        "                         [4, 5, 6]])\n",
        "\n",
        "# Create tensor_d from the second matrix\n",
        "tensor_d = torch.tensor([[-1, 2],\n",
        "                         [-3, 4],\n",
        "                         [-5, 6]])\n",
        "\n",
        "# Perform matrix multiplication between tensor_c and tensor_d\n",
        "result = torch.matmul(tensor_c, tensor_d)\n",
        "\n",
        "# Print the result of the matrix multiplication\n",
        "print(\"Result (C * D):\\n\", result)\n"
      ]
    },
    {
      "cell_type": "code",
      "execution_count": 230,
      "metadata": {
        "colab": {
          "base_uri": "https://localhost:8080/"
        },
        "id": "XTy8ePHru1qd",
        "outputId": "6dd60e78-2368-4903-bd27-39215b7f9c6e"
      },
      "outputs": [
        {
          "name": "stdout",
          "output_type": "stream",
          "text": [
            "Result (E * F):\n",
            " tensor([[ 3],\n",
            "        [-5],\n",
            "        [ 5]])\n"
          ]
        }
      ],
      "source": [
        "#q3\n",
        "\n",
        "# Create tensor_e from the first matrix\n",
        "tensor_e = torch.tensor([[1, 1, -1],\n",
        "                         [-1, 1, -1],\n",
        "                         [1, -1, 1]])\n",
        "\n",
        "# Create tensor_f from the second matrix (1x3)\n",
        "tensor_f = torch.tensor([[4, -3, -2]])\n",
        "\n",
        "# Perform matrix multiplication between tensor_e and the transpose of tensor_f\n",
        "result = torch.matmul(tensor_e, tensor_f.T)\n",
        "\n",
        "# Print the result of the matrix multiplication\n",
        "print(\"Result (E * F):\\n\", result)\n"
      ]
    },
    {
      "cell_type": "code",
      "execution_count": 231,
      "metadata": {
        "colab": {
          "base_uri": "https://localhost:8080/"
        },
        "id": "a1ht4tyYu3rW",
        "outputId": "b1cc8304-a7a8-4dee-8dd4-5d3ccdcfc194"
      },
      "outputs": [
        {
          "name": "stdout",
          "output_type": "stream",
          "text": [
            "Result (G Transpose):\n",
            " tensor([[ 1,  4, -1],\n",
            "        [ 4,  2, -2],\n",
            "        [ 3, -6,  1]])\n"
          ]
        }
      ],
      "source": [
        "#q4\n",
        "# Create tensor_g from the given matrix\n",
        "tensor_g = torch.tensor([[1, 4, 3],\n",
        "                         [4, 2, -6],\n",
        "                         [-1, -2, 1]])\n",
        "\n",
        "# Compute the transpose of tensor_g\n",
        "result = tensor_g.T\n",
        "\n",
        "# Print the transpose of Matrix G\n",
        "print(\"Result (G Transpose):\\n\", result)\n"
      ]
    },
    {
      "cell_type": "code",
      "execution_count": 232,
      "metadata": {
        "colab": {
          "base_uri": "https://localhost:8080/"
        },
        "id": "NPFGtxYdvU1_",
        "outputId": "278df01f-758d-4209-e7ab-8f83c28e14af"
      },
      "outputs": [
        {
          "name": "stdout",
          "output_type": "stream",
          "text": [
            "Result (G Inverse):\n",
            " tensor([[ 0.5000,  0.5000,  1.5000],\n",
            "        [-0.1000, -0.2000, -0.9000],\n",
            "        [ 0.3000,  0.1000,  0.7000]])\n"
          ]
        }
      ],
      "source": [
        "#q5\n",
        "\n",
        "# Create tensor_g as a 3x3 matrix of type float32\n",
        "tensor_g = torch.tensor([[1, 4, 3],\n",
        "                         [4, 2, -6],\n",
        "                         [-1, -2, 1]], dtype=torch.float32)\n",
        "\n",
        "# Compute the inverse of tensor_g\n",
        "tensor_g_inv = torch.inverse(tensor_g)\n",
        "\n",
        "# Print the inverse of Matrix G\n",
        "print(\"Result (G Inverse):\\n\", tensor_g_inv)\n"
      ]
    },
    {
      "cell_type": "code",
      "execution_count": 233,
      "metadata": {
        "colab": {
          "base_uri": "https://localhost:8080/"
        },
        "id": "OF3V9EMaxP8k",
        "outputId": "ea87eab6-1580-4616-e47b-abafb2606a71"
      },
      "outputs": [
        {
          "name": "stdout",
          "output_type": "stream",
          "text": [
            "Result (G Determinant):\n",
            " tensor(-20.0000)\n"
          ]
        }
      ],
      "source": [
        "#q6\n",
        "\n",
        "# Create tensor_g as a 3x3 matrix of type float32\n",
        "tensor_g = torch.tensor([[1, 4, 3],\n",
        "                         [4, 2, -6],\n",
        "                         [-1, -2, 1]], dtype=torch.float32)\n",
        "\n",
        "# Compute the determinant of tensor_g\n",
        "tensor_g_det = torch.det(tensor_g)\n",
        "\n",
        "# Print the determinant of Matrix G\n",
        "print(\"Result (G Determinant):\\n\", tensor_g_det)\n"
      ]
    },
    {
      "cell_type": "markdown",
      "metadata": {
        "id": "Kosqr_2DPmu9"
      },
      "source": [
        "## part 2 - Eigenvalues (2 points)\n",
        "\n",
        "Use **pytorch** to find the largest 5 eigenvalues of $\\frac{1}{500}X^T X$, where $X$ is provided below (do not change $X$)\n",
        "\n",
        "_note: for this problem, you will need to convert the numpy object to a torch object_"
      ]
    },
    {
      "cell_type": "code",
      "execution_count": 234,
      "metadata": {
        "id": "Tcq_ha4-QWca"
      },
      "outputs": [],
      "source": [
        "np.random.seed(0)\n",
        "x = np.random.normal(0, 1, [500, 25])"
      ]
    },
    {
      "cell_type": "code",
      "execution_count": 235,
      "metadata": {
        "colab": {
          "base_uri": "https://localhost:8080/"
        },
        "id": "jKPUZPW-6cnA",
        "outputId": "fbce0f85-a00a-47c3-f6ff-9f9ebe386904"
      },
      "outputs": [
        {
          "name": "stdout",
          "output_type": "stream",
          "text": [
            "Largest 5 Eigenvalues:\n",
            "torch.return_types.topk(\n",
            "values=tensor([349692.9143, 331381.2909, 321208.2977, 314692.2366, 309890.0581],\n",
            "       dtype=torch.float64),\n",
            "indices=tensor([0, 2, 3, 5, 4]))\n"
          ]
        }
      ],
      "source": [
        "# Convert the numpy array to a PyTorch tensor\n",
        "tensor_x = torch.from_numpy(x)\n",
        "\n",
        "# Compute X^T\n",
        "tensor_x_t = tensor_x.T\n",
        "\n",
        "# Compute X^T X, multiply by 500\n",
        "tensor_x_t_x = torch.matmul(tensor_x_t, tensor_x) * 500\n",
        "\n",
        "# Compute eigenvalues\n",
        "eigenvalues = torch.linalg.eigvals(tensor_x_t_x)\n",
        "\n",
        "# Extract the largest 5 eigenvalues\n",
        "largest_eigenvalues = torch.topk(eigenvalues.real, 5)\n",
        "\n",
        "# Print the largest 5 eigenvalues\n",
        "print(\"Largest 5 Eigenvalues:\")\n",
        "print(largest_eigenvalues)\n"
      ]
    },
    {
      "cell_type": "markdown",
      "metadata": {
        "id": "3zYQiuTtQmHC"
      },
      "source": [
        "## part 3 - Normalization (6 points)\n",
        "\n",
        "1. Divide each column of the matrix $X$ by its Euclidean ($L^2$) norm. Print the average value of all elements.\n",
        "\n",
        "2. Scale each column of the matrix $Y$ so that the min and max of each column are 0.0 and 1.0 respectively. Print the average value of all elements.\n",
        "\n",
        "3. Normalize the vector $Z$ so that each element is positive, bounded between 0.0 and 1.0, and all elements sum to 1.0. Print the average value of all elements."
      ]
    },
    {
      "cell_type": "code",
      "execution_count": 236,
      "metadata": {
        "id": "wGH35WboQlUs"
      },
      "outputs": [],
      "source": [
        "np.random.seed(0)\n",
        "x = np.random.normal(0, 1, [500, 25])\n",
        "y = np.random.normal(0, 1, [500, 25])\n",
        "z = np.random.normal(0, 1, [10])\n",
        "\n",
        "#Convert to x from numpy to tensor\n",
        "tensor_x = torch.from_numpy(x)\n",
        "\n",
        "#Convert to y from numpy to tensor\n",
        "tensor_y = torch.from_numpy(y)\n",
        "\n",
        "#Convert to z from numpy to tensor\n",
        "tensor_z = torch.from_numpy(z)"
      ]
    },
    {
      "cell_type": "code",
      "execution_count": 237,
      "metadata": {
        "colab": {
          "base_uri": "https://localhost:8080/"
        },
        "id": "8lxWPnBxYMWD",
        "outputId": "5193c571-9843-4c8b-e4bc-a90baa14d1ff"
      },
      "outputs": [
        {
          "name": "stdout",
          "output_type": "stream",
          "text": [
            "Average value of all elements: tensor(-0.0008, dtype=torch.float64)\n"
          ]
        }
      ],
      "source": [
        "#1.\n",
        "\n",
        "#Find Euclidean (L^2) norm\n",
        "tensor_x_norm = torch.norm(tensor_x, dim=0)\n",
        "\n",
        "#Divide each coloumn of the matrix X by L^2 norm\n",
        "tensor_x_normalized = tensor_x / tensor_x_norm\n",
        "\n",
        "#Get avg of all elements after dividing each col\n",
        "avg_value = torch.mean(tensor_x_normalized)\n",
        "\n",
        "#Print the avg value of all elements\n",
        "print(\"Average value of all elements:\", avg_value)"
      ]
    },
    {
      "cell_type": "code",
      "execution_count": 238,
      "metadata": {
        "colab": {
          "base_uri": "https://localhost:8080/"
        },
        "id": "SrTGV1nt8Wr4",
        "outputId": "24c6a46a-5800-4eb4-ec2a-f209db578b41"
      },
      "outputs": [
        {
          "name": "stdout",
          "output_type": "stream",
          "text": [
            "Average value of all elements: tensor(0.4943, dtype=torch.float64)\n"
          ]
        }
      ],
      "source": [
        "#2.\n",
        "\n",
        "#Find min of each col\n",
        "tensor_y_min = torch.min(tensor_y, dim=0).values\n",
        "\n",
        "#Find max of each col\n",
        "tensor_y_max = torch.max(tensor_y, dim=0).values\n",
        "\n",
        "#Scale tensor_y by min / max to 0-1 range\n",
        "tensor_y_scaled = (tensor_y - tensor_y_min) / (tensor_y_max - tensor_y_min)\n",
        "\n",
        "#Compute avg of all elements after scaling\n",
        "tensor_y_avg = torch.mean(tensor_y_scaled)\n",
        "\n",
        "#Print the avg value of all elements\n",
        "print(\"Average value of all elements:\", tensor_y_avg)"
      ]
    },
    {
      "cell_type": "code",
      "execution_count": 239,
      "metadata": {
        "id": "zjzt457uAFQf"
      },
      "outputs": [
        {
          "name": "stdout",
          "output_type": "stream",
          "text": [
            "Average value of all elements: tensor(0.1000, dtype=torch.float64)\n"
          ]
        }
      ],
      "source": [
        "#3.\n",
        "\n",
        "#Normalize the tensor_z\n",
        "tensor_z_norm = (tensor_z - torch.min(tensor_z)) / (torch.max(tensor_z) - torch.min(tensor_z))\n",
        "\n",
        "#Sum all elements\n",
        "tensor_z_sum = torch.sum(tensor_z_norm)\n",
        "\n",
        "#Normalize the tensor_z\n",
        "tensor_z_normalized = tensor_z_norm / tensor_z_sum\n",
        "\n",
        "#Print avg value of all elements\n",
        "print(\"Average value of all elements:\", torch.mean(tensor_z_normalized))"
      ]
    },
    {
      "cell_type": "markdown",
      "metadata": {
        "id": "JpYOtsmFijYx"
      },
      "source": [
        "## part 4 - Basic probability (6 points)\n",
        "\n",
        "1. Let $X \\sim N(0, 2)$ and $Y \\sim N(1, 0.5)$. In a normal distribution $N(\\mu, \\sigma^2)$, the first parameter $\\mu$ is the mean and the second parameter $\\sigma^2$ is the variance. Use **pytorch** to estimate the following quantities. Use at least 5000 draws from each distribution.\n",
        "  1. $P(X > 0)$, $P(X = 1)$, and $P(X < Y)$\n",
        "  1. $P(X > -Y)$ and $P(-2.5 < X < 2Y)$\n",
        "  2. $E(X)$, $E(XY)$, $E(X + Y)$ and $\\sqrt{E(X^2 + Y^2)}$."
      ]
    },
    {
      "cell_type": "code",
      "execution_count": 240,
      "metadata": {
        "id": "Sm05Jh8Vj3hf"
      },
      "outputs": [
        {
          "name": "stdout",
          "output_type": "stream",
          "text": [
            "Mean of X samples: 0.01717904955148697\n",
            "Variance of X samples: 1.9794672727584839\n",
            "Mean of Y samples: 1.0046625137329102\n",
            "Variance of Y samples: 0.49540606141090393\n"
          ]
        }
      ],
      "source": [
        "#1.\n",
        "\n",
        "#Define X and Y Variables\n",
        "X = torch.distributions.Normal(0, torch.sqrt(torch.tensor(2.0))) # arguments are mean and standard deviation\n",
        "Y = torch.distributions.Normal(1, torch.sqrt(torch.tensor(0.5)))\n",
        "#Generate 10000 samples from X and Y\n",
        "x_samples = X.sample((10000,))\n",
        "y_samples = Y.sample((10000,))\n",
        "\n",
        "#Compute the mean and standard deviation of the samples\n",
        "x_mean = torch.mean(x_samples) # mean  \n",
        "x_var = torch.var(x_samples) # varaiance\n",
        "\n",
        "y_mean = torch.mean(y_samples) # mean\n",
        "y_var = torch.var(y_samples) # variance\n",
        "\n",
        "#Print the mean and variance of the samples\n",
        "print(\"Mean of X samples:\", x_mean.item())\n",
        "print(\"Variance of X samples:\", x_var.item())\n",
        "print(\"Mean of Y samples:\", y_mean.item())\n",
        "print(\"Variance of Y samples:\", y_var.item())"
      ]
    },
    {
      "cell_type": "code",
      "execution_count": 241,
      "metadata": {},
      "outputs": [
        {
          "name": "stdout",
          "output_type": "stream",
          "text": [
            "P(X > 0): 0.5009999871253967\n",
            "P(X = 1): 0.0\n",
            "P(X < Y): 0.7390999794006348\n"
          ]
        }
      ],
      "source": [
        "#2.  P(X > 0)$, $P(X = 1)$, and $P(X < Y)\n",
        "\n",
        "#Probability that X is greater than 0\n",
        "prob_X_greater_than_0 = (x_samples > 0).float().mean().item()\n",
        "\n",
        "#Probability that X is equal to 1\n",
        "prob_X_equals_1 = (x_samples == 1).float().mean().item()\n",
        "\n",
        "#Probability that X is less than Y\n",
        "prob_X_less_than_Y = (x_samples < y_samples).float().mean().item()\n",
        "\n",
        "#Print the probabilities\n",
        "print(\"P(X > 0):\", prob_X_greater_than_0)\n",
        "print(\"P(X = 1):\", prob_X_equals_1)\n",
        "print(\"P(X < Y):\", prob_X_less_than_Y)"
      ]
    },
    {
      "cell_type": "code",
      "execution_count": 242,
      "metadata": {},
      "outputs": [
        {
          "name": "stdout",
          "output_type": "stream",
          "text": [
            "P(X > -Y): 0.7394999861717224\n",
            "P(-2.5 < X < 2Y): 0.8064000010490417\n"
          ]
        }
      ],
      "source": [
        "#3. P(X > -Y)$ and $P(-2.5 < X < 2Y)\n",
        "\n",
        "#Probability that X is greater than -Y\n",
        "prob_X_greater_than_neg_Y = (x_samples > -y_samples).float().mean().item()\n",
        "\n",
        "#Probability that X is between -2.5 and 2Y\n",
        "prob_X_between_neg_2_5_and_2Y = ((x_samples > -2.5) & (x_samples < 2 * y_samples)).float().mean().item()\n",
        "\n",
        "#Print the probabilities\n",
        "print(\"P(X > -Y):\", prob_X_greater_than_neg_Y)\n",
        "print(\"P(-2.5 < X < 2Y):\", prob_X_between_neg_2_5_and_2Y)"
      ]
    },
    {
      "cell_type": "code",
      "execution_count": 243,
      "metadata": {},
      "outputs": [
        {
          "name": "stdout",
          "output_type": "stream",
          "text": [
            "E(X): 0.01717904955148697\n",
            "E(XY): 0.027132460847496986\n",
            "E(X + Y): 1.0218415260314941\n",
            "sqrt(E(X^2 + Y^2)): 1.6866650581359863\n"
          ]
        }
      ],
      "source": [
        "#4. E(X)$, $E(XY)$, $E(X + Y)$ and $\\sqrt{E(X^2 + Y^2)}\n",
        "\n",
        "#Expectation of X\n",
        "E_X = torch.mean(x_samples).item()\n",
        "\n",
        "#Expectation of XY\n",
        "E_XY = torch.mean(x_samples * y_samples).item()\n",
        "\n",
        "#Expectation of X + Y\n",
        "E_X_plus_Y = torch.mean(x_samples + y_samples).item()\n",
        "\n",
        "#Expectation of sqrt(X^2 + Y^2)\n",
        "E_sqrt_X2_Y2 = torch.mean(torch.sqrt(x_samples**2 + y_samples**2)).item()\n",
        "\n",
        "#Print the expectations\n",
        "print(\"E(X):\", E_X)\n",
        "print(\"E(XY):\", E_XY)\n",
        "print(\"E(X + Y):\", E_X_plus_Y)\n",
        "print(\"sqrt(E(X^2 + Y^2)):\", E_sqrt_X2_Y2)"
      ]
    },
    {
      "cell_type": "markdown",
      "metadata": {
        "id": "tLYuSKG3go3h"
      },
      "source": [
        "# Q2 - Statistical learning (33 points)\n"
      ]
    },
    {
      "cell_type": "markdown",
      "metadata": {
        "id": "Ks6EV8Y3mNmP"
      },
      "source": [
        "## part 1 - Design (12 points)\n",
        "\n",
        "The following questions are open-ended basic design questions. I want you to think about them and briefly respond with your thoughts (**not chatgpt's thoughts**). You don't need to reference specific datasets or loss functions (we havent covered them yet), but just try to give a description of how you might go about solving the problem.\n",
        "\n",
        "1. Suppose I want to predict the maximum price of bitcoin tomorrow using the daily maximum price of bitcoin from the previous 5 days. What kind of data should I collect to solve this problem? What are my features and what is my target? How might I measure if my model is performing well or not?\n",
        "\n",
        "2. Suppose I have xray scans of patients lungs and I want to detect if they have covid or not. What kind of data should I collect to solve this problem? What other kinds of data might be helpful? What are my features and what is my target? How might I measure if my model is performing well or not?\n",
        "\n",
        "3. Suppose I want to train a model to de-blur images and remove watermarks. How might you go about constructing a dataset to train a model to solve this task? What are my features and targets? How might I measure if my model is performing well or not?\n",
        "\n",
        "4. Suppose I want to train a model to translate English to Mandarin. How might I go about constructing a dataset to train a model to solve this task? What would be your models inputs and outputs? How might you measure whether your model performs well or not?\n",
        "\n"
      ]
    },
    {
      "cell_type": "markdown",
      "metadata": {},
      "source": [
        "1. Suppose I want to predict the maximum price of bitcoin tomorrow using the daily maximum price of bitcoin from the previous 5 days. What kind of data should I collect to solve this problem? What are my features and what is my target? How might I measure if my model is performing well or not?\n",
        "\n",
        "The best data would be to scrap all the price values of bitcoin in the past 5 days, these can be stored with the timestamp. \n",
        "\n",
        "Some useful features could be the peak prices of bitcoin from the previous 5 days, and compare the peak value on that day from the average of that day.\n",
        "This will give you insight into if that peak is a common peak or outlier. Another feature, that can be useful is to determine what times of day the average\n",
        "bitcoin price increased. Breaking it into one hour groups, we can determin also during which period a peak is more likely to occur. \n",
        "\n",
        "Based on these two features, our target is to infer the maximum peak, which is mostly the average of the previously 5 day peaks if the variance in the peaks are low. If the variance is high, and their is a correlation between the price increasing and the time of day. Our target is trying to average bitcoin price in that given time frame. \n",
        "\n",
        "Once the model is trained to test if the performance if well or not, focusing on the recall to determine how often the predict value is correct, given a margin of error could be useful in updating the model. "
      ]
    },
    {
      "cell_type": "markdown",
      "metadata": {},
      "source": [
        "2. Suppose I have xray scans of patients lungs and I want to detect if they have covid or not. What kind of data should I collect to solve this problem? What other kinds of data might be helpful? What are my features and what is my target? How might I measure if my model is performing well or not?\n",
        "\n",
        "Essential Data: Family health record, smoking history, age, list of current symptoms, previous x-ray of patients' lung with covid, previous x-ray of patients' lung without covid\n",
        "Extra Benefical Data: Location visited in past week, avg density of location visited, occupation, diet\n",
        "\n",
        "Features: From the data we can determine correlation between the feature of age, smoking, health record, and symptoms, etc. to other patients lungs xray. After sorting the feature by importance. We can use the top 3-5 features as predictor features to determine based on this background knowledge we can determine if thy=ey have covid or not.\n",
        "\n",
        "Alternative approach: If our only data is the x-ray of their lungs. Given that we have some known cases we can take a set of images and convert the images to an array of pixels. If greyscaled then we can look for pixel densities to determine if certain objects in the xrays correlate with covid or not. Once the test set of the data is aware of what to look out for the images. When a new xray of the lung is given we can use the models object detection ability to determine any features that are indicators to covid or not. \n",
        "\n",
        "Measure: To measure this model we can use backprop to update the weights on the array of pixel of the image importance. This will make certain objects in the image more importance that other depending on if covid is present or not. "
      ]
    },
    {
      "cell_type": "markdown",
      "metadata": {},
      "source": [
        "3. Suppose I want to train a model to de-blur images and remove watermarks. How might you go about constructing a dataset to train a model to solve this task? What are my features and targets? How might I measure if my model is performing well or not?\n",
        "\n",
        "To construct the dataset we will need both the blurred and the unblurred versions of the same images. Furthermore, we will need different blurring techniques, and have images with watermarks in difference location and sizes.\n",
        "\n",
        "Features: The features would be the RGB values for the pixel, and the greyscale values of the pixel. The target for these feature will be the same values but from the actual de-blur or non-watermarked images. \n",
        "\n",
        "Measure: To tune the model use backprop to update the weights associated to the pixels. To visualize this we can compare if the final predicted RGB pixel value is equal to the target RGB pixel value and compute the total value of inaccuracy prediction. Thus as we update the weights we can determine if we are doing better or worse.  \n"
      ]
    },
    {
      "cell_type": "markdown",
      "metadata": {},
      "source": [
        "4. Suppose I want to train a model to translate English to Mandarin. How might I go about constructing a dataset to train a model to solve this task? What would be your models inputs and outputs? How might you measure whether your model performs well or not?\n",
        "\n",
        "Dataset: Gather English and Mandarin words and map the words with the same or most similar meaning. Ensure that the mapping is 1 to 1.\n",
        "\n",
        "I/O: The string inputs would need to be tokenize and embedding into vectors to do continue. An option is to use premade embedding tools such as GloVe, this will convert the string words into a dictonary array with ID and dense vector that values are determined on the words relationship to each other. Once the english and mandarin words are converted to dense vectors. We can develop a transformer like model that create tokens of sentences. Based on the vector values in the sentence we would then map them to word vector values similar in Mandarin word vector values from the embedding layer. After mapping we would reconstruct the English sentence with Mandarin words into a mandarin output string.\n",
        "\n",
        "Measure: To measure we would determine how many words were wrong and replace these words with the words with the correct context. Then after finding the correct words vector value we can update the model weights to repeat the correct vector value and thus word. The accuracy of from the orginal english to mandarin can also be monitored to determine if the model is trending positively or negatively as it trains. "
      ]
    },
    {
      "cell_type": "markdown",
      "metadata": {
        "id": "28s4gPl_mxUI"
      },
      "source": [
        "## part 2 - Learning objectives (6 points)\n",
        "\n",
        "Suppose I have features $X$ and targets $Y$ whos true relationship is\n",
        "$$\n",
        "Y = g(X) + \\epsilon\n",
        "$$\n",
        "where $g$ is an unknown function and $\\epsilon \\sim N(0, \\sigma^2)$. Since I don't know $g$, I decide to model $Y$ as\n",
        "$$\n",
        "Y = f(X) + \\epsilon\n",
        "$$\n",
        "where $f$ is your favorite model and $\\epsilon \\sim N(0, \\sigma^2)$.\n",
        "\n",
        "1. What is the difference between $E(Y \\mid X)$ and $E(f(X) \\mid X)$? Why do I want them to be as close as possible?\n",
        "\n",
        "1. What is the difference between $P(Y \\mid X)$ and $P(f(X) + \\epsilon \\mid X)$? Why do I want them to be as close as possible?"
      ]
    },
    {
      "cell_type": "markdown",
      "metadata": {},
      "source": [
        "1. What is the difference between $E(Y \\mid X)$ and $E(f(X) \\mid X)$? Why do I want them to be as close as possible?\n",
        "\n",
        "The expectation of Y given X is different from the expectation of f(X) given X, since Y = g(x) + epsilon and g(x) is unknown f(x) is an approximatation of g(x). The closer the two expectation values the more similar f(x) is to the the unknown function g(x). \n"
      ]
    },
    {
      "cell_type": "markdown",
      "metadata": {},
      "source": [
        "2. What is the difference between $P(Y \\mid X)$ and $P(f(X) + \\epsilon \\mid X)$? Why do I want them to be as close as possible?\n",
        "\n",
        "The probability of Y given X is different to the probability of $P(f(X) + \\epsilon)$ given X. By adding $(\\epsilon)$ we add $N(0, \\sigma^2)$ to f(x) since the mean is zero this adds the variance. If we minimize the two probabilities then we are getting our f(x) function to be as close to the target Y while reduce the overall variance. This means our predicted model is more accuracy to the the target model. "
      ]
    },
    {
      "cell_type": "markdown",
      "metadata": {
        "id": "tXdBf_Yalfax"
      },
      "source": [
        "## part 3 - Train and test loss (6 points)\n",
        "\n",
        "Let $Z_{train}$ denote the training dataset and $Z_{test}$ denote the test dataset. We train a model $\\hat f$ on $Z_{train}$ using loss function $\\mathcal{L}$. We then apply our model to $Z_{test}$.\n",
        "\n",
        "1. Intuitively explain why we would expect $\\mathcal{L}(\\hat f, Z_{train}) \\leq \\mathcal{L}(\\hat f, Z_{test})$?\n",
        "\n",
        "2. Is it possible for $\\mathcal{L}(\\hat f, Z_{test}) \\leq \\mathcal{L}(\\hat f, Z_{train})$? Why or why not?\n"
      ]
    },
    {
      "cell_type": "markdown",
      "metadata": {},
      "source": [
        "1. Intuitively explain why we would expect $\\mathcal{L}(\\hat f, Z_{train}) \\leq \\mathcal{L}(\\hat f, Z_{test})$?\n",
        "\n",
        "As the model trains and updates the weights and biases the loss should be getting smaller as the model gets a better fit for the data. Thus, the results of the loss function should decrease over the training and be smaller that the results of the loss function on the test set data. "
      ]
    },
    {
      "cell_type": "markdown",
      "metadata": {},
      "source": [
        "2. Is it possible for $\\mathcal{L}(\\hat f, Z_{test}) \\leq \\mathcal{L}(\\hat f, Z_{train})$? Why or why not?\n",
        "\n",
        "If the data when split into the test and training set are not fully random, the model could be overfit for a given type of data in the set and we could see that the results of the loss function for the test set be lower that the training. Also, if the data split is not balance, such as a 99 / 1 training and test set split respectively then the model could overfit, and not had the smaller cases that can pop up in the smaller test set data. This could also lead to the train loss function values to be higher than the test loss function values. Thus it is possible but avoidable. "
      ]
    },
    {
      "cell_type": "markdown",
      "metadata": {
        "id": "4plrPmsCmZwm"
      },
      "source": [
        "## part 4 - Learnability (9 points)\n",
        "\n",
        "Suppose the true relationship between $Y \\in \\mathbb{R}$ and $X \\in \\mathbb{R}$ (i.e. both are real numbers) is\n",
        "$$\n",
        "Y = 4 \\log(X^2 + 2) + \\frac{1}{4}\\sin(4\\pi X)) + \\epsilon\n",
        "$$\n",
        "\n",
        "and I assume the following model\n",
        "$$\n",
        "Y = \\alpha + \\beta X + \\epsilon\n",
        "$$\n",
        "\n",
        "1. Will model be able to learn the true function with infinite training data? State why or why not.\n",
        "\n",
        "2. Will it be possible to reduce this model's bias to 0 with infinite training data? State why or why not.\n",
        "\n",
        "3. Will it be possible to reduce this model's variance to 0 with infinite training data? State why or why not."
      ]
    },
    {
      "cell_type": "markdown",
      "metadata": {},
      "source": [
        "1. Will model be able to learn the true function with infinite training data? State why or why not.\n",
        "\n",
        "The model we assume is a linear model, where as the actual Y model is not linear due to the log term and the sine term. Since we are using a linear model to approximate a non-linear function even with infinite training data the linear model, will not be able to perfectly resemble the non-linear nature of the actual function. "
      ]
    },
    {
      "cell_type": "markdown",
      "metadata": {},
      "source": [
        "2. Will it be possible to reduce this model's bias to 0 with infinite training data? State why or why not.\n",
        "\n",
        "The infinite data will reduce the variance of the linear model, but will not change the nature of the linear model we are using to approximate the non-linear Y function. Thus, similar the model's bias will not be able to be reduced to 0 even with infinite training data. \n",
        "\n"
      ]
    },
    {
      "cell_type": "markdown",
      "metadata": {},
      "source": [
        "3. Will it be possible to reduce this model's variance to 0 with infinite training data? State why or why not.\n",
        "\n",
        "Since the variance measure the deviations in the data, the more data we provide the model the more accuracy the model will be at predicting its outputs and thus reduces the noise or variance. Building on this by providing the training data with infinite data we can in theory reduc the linear model's variance to 0. \n"
      ]
    },
    {
      "cell_type": "markdown",
      "metadata": {
        "id": "3JgwewfUSHc7"
      },
      "source": [
        "# Q3 - Optimization (32 points)"
      ]
    },
    {
      "cell_type": "markdown",
      "metadata": {
        "id": "TXsiV4dLUCo2"
      },
      "source": [
        "## part 1 - Convex checking (6 points)\n",
        "\n",
        "Plot each of the following functions in a single figure with 6 subfigures arranged in a 1x6 grid [(Example)]. Label each subfigure. For each function state whether it is convex or not over the range $[-1, 1]$. Check $f''(x) \\geq 0$ if you need.\n",
        "\n",
        "1. $f(x) = x^2$\n",
        "2. $f(x) = -x^3$\n",
        "3. $f(x) = \\exp(x) + x \\log x$\n",
        "4. $f(x) = x + x^2 + x^3 + x^4$\n",
        "5. $f(x) = 2x^2 + 2x^4 + 2x^6$\n",
        "6. $f(x) = \\log(x^2 + 1)$\n",
        "\n",
        "\n",
        "[(Example)]: https://matplotlib.org/stable/gallery/subplots_axes_and_figures/subfigures.html"
      ]
    },
    {
      "cell_type": "code",
      "execution_count": 244,
      "metadata": {
        "id": "0zcH8N_Nl5Dm"
      },
      "outputs": [],
      "source": [
        "x = np.linspace(-1, 1, 1000)"
      ]
    },
    {
      "cell_type": "code",
      "execution_count": 245,
      "metadata": {},
      "outputs": [
        {
          "data": {
            "image/png": "[encoded data removed]",
            "text/plain": [
              "<Figure size 1800x300 with 6 Axes>"
            ]
          },
          "metadata": {},
          "output_type": "display_data"
        }
      ],
      "source": [
        "# Define functions and their second derivatives\n",
        "def f1(x):\n",
        "    return x**2\n",
        "\n",
        "def f1_second_derivative(x):\n",
        "    return np.full_like(x, 2)\n",
        "\n",
        "def f2(x):\n",
        "    return -x**3\n",
        "\n",
        "def f2_second_derivative(x):\n",
        "    return -6 * x\n",
        "\n",
        "def f3(x):\n",
        "    return np.exp(x) + x * np.log(x)\n",
        "\n",
        "def f3_second_derivative(x):\n",
        "    return np.exp(x) + 1 / x\n",
        "\n",
        "def f4(x):\n",
        "    return x + x**2 + x**3 + x**4\n",
        "\n",
        "def f4_second_derivative(x):\n",
        "    return 2 + 6*x + 12*x**2\n",
        "\n",
        "def f5(x):\n",
        "    return 2*x**2 - 2*x**4 + 2*x**6\n",
        "\n",
        "def f5_second_derivative(x):\n",
        "    return 4 - 24*x**2 + 120*x**4\n",
        "\n",
        "def f6(x):\n",
        "    return np.log(x**2 + 1)\n",
        "\n",
        "def f6_second_derivative(x):\n",
        "    return 2 / (x**2 + 1)\n",
        "\n",
        "# Check convexity\n",
        "def is_convex(second_derivative, x):\n",
        "    return np.all(second_derivative(x) >= 0)\n",
        "\n",
        "# Define x values\n",
        "x = np.linspace(-2, 2, 400)\n",
        "fig, axes = plt.subplots(1, 6, figsize=(18, 3))\n",
        "\n",
        "# Plot functions\n",
        "for i, (func, sec_deriv, title) in enumerate([\n",
        "    (f1, f1_second_derivative, \"f(x) = x^2\"),\n",
        "    (f2, f2_second_derivative, \"f(x) = -x^3\"),\n",
        "    (f3, f3_second_derivative, \"f(x) = exp(x) + x log(x)\"),\n",
        "    (f4, f4_second_derivative, \"f(x) = x + x^2 + x^3 + x^4\"),\n",
        "    (f5, f5_second_derivative, \"f(x) = 2x^2 - 2x^4 + 2x^6\"),\n",
        "    (f6, f6_second_derivative, \"f(x) = log(x^2 + 1)\")\n",
        "]):\n",
        "    x_valid = x[x > 0] if func == f3 else x  # Avoid log(0) issue\n",
        "    axes[i].plot(x_valid, func(x_valid))\n",
        "    axes[i].set_title(f\"{title}\\nConvex: {'Yes' if is_convex(sec_deriv, x_valid) else 'No'}\")\n",
        "    axes[i].grid(True)\n",
        "\n",
        "plt.tight_layout()\n",
        "plt.show()\n"
      ]
    },
    {
      "cell_type": "markdown",
      "metadata": {
        "id": "qRadD1tgbqVf"
      },
      "source": [
        "## part 2 - Optimization in pytorch (6 points)\n",
        "\n",
        "Use **pytorch** and **gradient descent** to find the values that minimize of the following functions. You must write your own gradient descent loop but you can use pytorch's autodiff tools to find the gradients for you.\n",
        "\n",
        "1. $f(x) = 500x^2$\n",
        "2. $f(x) = x^4 \\log(x^2 + 1)$\n",
        "3. $f(x, y) = y^2(x \\log(x^2 + 1) + x^3)$"
      ]
    },
    {
      "cell_type": "code",
      "execution_count": 246,
      "metadata": {
        "id": "T9Cwdt1fo9S5"
      },
      "outputs": [
        {
          "name": "stdout",
          "output_type": "stream",
          "text": [
            "Iteration 0, x: -1.2544950246810913, loss: 9.714553833007812\n",
            "Iteration 10, x: -4374153216.0, loss: 1.1810629329737273e+20\n",
            "Iteration 20, x: -1.5251727110625034e+19, loss: inf\n",
            "Iteration 30, x: -5.31794709355933e+28, loss: inf\n",
            "Iteration 40, x: nan, loss: inf\n",
            "Iteration 50, x: nan, loss: nan\n",
            "Iteration 60, x: nan, loss: nan\n",
            "Iteration 70, x: nan, loss: nan\n",
            "Iteration 80, x: nan, loss: nan\n",
            "Iteration 90, x: nan, loss: nan\n"
          ]
        }
      ],
      "source": [
        "#1. Define function f(x) = 500x^2\n",
        "def f1(x):\n",
        "    return 500 * x**2\n",
        "\n",
        "# Hyperparameters for gradient descent\n",
        "learning_rate = 0.01\n",
        "num_iterations = 100\n",
        "\n",
        "# Initialize x with random value\n",
        "x = torch.randn(1, requires_grad=True)\n",
        "\n",
        "# Gradient descent loop \n",
        "for i in range(num_iterations):\n",
        "    # Calculate function value\n",
        "    loss = f1(x)\n",
        "    \n",
        "    # Backpropagate to calculate gradients\n",
        "    loss.backward()\n",
        "    \n",
        "    # Update x using gradient descent\n",
        "    with torch.no_grad():  # No tracking of operations for the update step\n",
        "        x -= learning_rate * x.grad\n",
        "    \n",
        "    # Zero the gradients after updating\n",
        "    x.grad.zero_()\n",
        "    \n",
        "    if i % 10 == 0:\n",
        "        print(f\"Iteration {i}, x: {x.item()}, loss: {loss.item()}\")\n"
      ]
    },
    {
      "cell_type": "code",
      "execution_count": 247,
      "metadata": {},
      "outputs": [
        {
          "name": "stdout",
          "output_type": "stream",
          "text": [
            "Iteration 0, x: -0.7425689101219177, loss: -0.13000202178955078\n",
            "Iteration 10, x: -0.6899795532226562, loss: -0.16118139028549194\n",
            "Iteration 20, x: -0.659609317779541, loss: -0.1713629812002182\n",
            "Iteration 30, x: -0.640903651714325, loss: -0.1751820594072342\n",
            "Iteration 40, x: -0.628939688205719, loss: -0.17673389613628387\n",
            "Iteration 50, x: -0.6211065649986267, loss: -0.17739634215831757\n",
            "Iteration 60, x: -0.6159003973007202, loss: -0.17768824100494385\n",
            "Iteration 70, x: -0.6124059557914734, loss: -0.17781950533390045\n",
            "Iteration 80, x: -0.6100449562072754, loss: -0.17787933349609375\n",
            "Iteration 90, x: -0.6084428429603577, loss: -0.17790688574314117\n"
          ]
        }
      ],
      "source": [
        "#2. Define the function f(x) = x^4-log(x^2+1)  \n",
        "def f2(x):\n",
        "    return x**4 - torch.log(x**2 + 1)\n",
        "\n",
        "# Hyperparameters for gradient descent\n",
        "learning_rate = 0.01\n",
        "num_iterations = 100\n",
        "\n",
        "# Initialize x with random value\n",
        "x = torch.randn(1, requires_grad=True)\n",
        "\n",
        "# gradient descent loop \n",
        "for i in range(num_iterations):\n",
        "    # Calculate function value\n",
        "    loss = f2(x)\n",
        "    \n",
        "    # Backpropagate to calculate gradients\n",
        "    loss.backward()\n",
        "    \n",
        "    # Update x using gradient descent\n",
        "    with torch.no_grad():  # No tracking of operations for the update step\n",
        "        x -= learning_rate * x.grad\n",
        "    \n",
        "    # Zero the gradients after updating\n",
        "    x.grad.zero_()\n",
        "    \n",
        "    if i % 10 == 0:\n",
        "        print(f\"Iteration {i}, x: {x.detach().item()}, loss: {loss.detach().item()}\")\n"
      ]
    },
    {
      "cell_type": "code",
      "execution_count": 248,
      "metadata": {},
      "outputs": [
        {
          "name": "stdout",
          "output_type": "stream",
          "text": [
            "Iteration 0, x: -1.2352964878082275, y: -0.13485853374004364, loss: -0.0488797165453434\n",
            "Iteration 10, x: -1.2576690912246704, y: -0.2453143447637558, loss: -0.16808171570301056\n",
            "Iteration 20, x: -1.3405760526657104, y: -0.4719885587692261, loss: -0.7106719613075256\n",
            "Iteration 30, x: -1.8739306926727295, y: -1.2364970445632935, loss: -8.799572944641113\n",
            "Iteration 40, x: nan, y: nan, loss: nan\n",
            "Iteration 50, x: nan, y: nan, loss: nan\n",
            "Iteration 60, x: nan, y: nan, loss: nan\n",
            "Iteration 70, x: nan, y: nan, loss: nan\n",
            "Iteration 80, x: nan, y: nan, loss: nan\n",
            "Iteration 90, x: nan, y: nan, loss: nan\n"
          ]
        }
      ],
      "source": [
        "#3. Define the function  f(x, y) = y^2(x \\log(x^2 + 1) + x^3)\n",
        "def f3(x, y):\n",
        "    return y**2 * (x * torch.log(x**2 + 1) + x**3)\n",
        "\n",
        "# Hyperparameters for gradient descent\n",
        "learning_rate = 0.01\n",
        "num_iterations = 100\n",
        "\n",
        "# Initialize x and y with random value\n",
        "x = torch.randn(1, requires_grad=True)\n",
        "y = torch.randn(1, requires_grad=True)\n",
        "\n",
        "\n",
        "# Gradient descent loop\n",
        "for i in range(num_iterations):\n",
        "    # Calculate function value\n",
        "    loss = f3(x, y)\n",
        "    \n",
        "    # Backpropagate to calculate gradients\n",
        "    loss.backward()\n",
        "    \n",
        "    # Update x and y using gradient descent\n",
        "    with torch.no_grad():  # No tracking of operations for the update step\n",
        "        x -= learning_rate * x.grad\n",
        "        y -= learning_rate * y.grad\n",
        "    \n",
        "    # Zero the gradients after updating\n",
        "    x.grad.zero_()\n",
        "    y.grad.zero_()\n",
        "    \n",
        "    if i % 10 == 0:\n",
        "        print(f\"Iteration {i}, x: {x.detach().item()}, y: {y.detach().item()}, loss: {loss.detach().item()}\")\n",
        "        \n"
      ]
    },
    {
      "cell_type": "markdown",
      "metadata": {
        "id": "q4xU-rrOUiKW"
      },
      "source": [
        "## part 3 - Global optimization (6 points)\n",
        "\n",
        "Suppose we have the following function:\n",
        "$$\n",
        "f(x) = x^2 + \\sin(\\pi x) + 0.5 \\sin(2\\pi x) + 0.5 \\sin(3\\pi x) + 0.5 \\sin(4\\pi x)\n",
        "$$\n",
        "and we want to find the value of $x$ that __globally minimizes__ $f(x)$.\n",
        "\n",
        "1. Over what range of starting values $x_0$ will gradient descent be guaranteed to find the __global__ minimum? I.e. find the interval of $x$ values whos local minima is the global minima. You don't need to solve for this exactly, just estimate the range to the first decimal place.\n",
        "\n",
        "2. What happens if we initialize outside this range and run gradient descent?\n",
        "\n",
        "3. Use pytorch and gradient descent to find the global minimizer using a valid starting point."
      ]
    },
    {
      "cell_type": "code",
      "execution_count": 249,
      "metadata": {
        "id": "eF4iza3XYfB4"
      },
      "outputs": [
        {
          "data": {
            "image/png": "[encoded data removed]",
            "text/plain": [
              "<Figure size 1000x600 with 1 Axes>"
            ]
          },
          "metadata": {},
          "output_type": "display_data"
        },
        {
          "name": "stdout",
          "output_type": "stream",
          "text": [
            "From the plot, we can see that the global minimum of the function f(x) is in the range of -0.25 to 0.\n"
          ]
        }
      ],
      "source": [
        "#1. \n",
        "\n",
        "#Define the function f(x) = x^2 + sin(pi*x) + 0.5sin(2*pi*x)+0.5sin(3*pi*x)+0.5sin(4*pi*x)\n",
        "def f(x):\n",
        "    return x**2 + torch.sin(math.pi * x) + 0.5 * torch.sin(2 * math.pi * x) + 0.5 * torch.sin(3 * math.pi * x) + 0.5 * torch.sin(4 * math.pi * x)\n",
        "\n",
        "#Range of x values to find the global minimum\n",
        "x_values = torch.linspace(-1, 1, 1000)\n",
        "\n",
        "#Show the plot of the function f(x)\n",
        "plt.figure(figsize=(10, 6))\n",
        "plt.plot(x_values, f(x_values))\n",
        "plt.title(\"Plot of the Function f(x)\")\n",
        "plt.xlabel(\"x\")\n",
        "plt.ylabel(\"f(x)\")\n",
        "plt.grid(True)\n",
        "plt.show()\n",
        "\n",
        "print(\"From the plot, we can see that the global minimum of the function f(x) is in the range of -0.25 to 0.\")"
      ]
    },
    {
      "cell_type": "code",
      "execution_count": 250,
      "metadata": {},
      "outputs": [
        {
          "name": "stdout",
          "output_type": "stream",
          "text": [
            "Iteration 0, x: -0.9957079887390137, loss: 0.9999998211860657\n",
            "Iteration 10, x: -0.9223151206970215, loss: 0.9510461091995239\n",
            "Iteration 20, x: -0.620368242263794, loss: -0.48911452293395996\n",
            "Iteration 30, x: -0.6195094585418701, loss: -0.48923349380493164\n",
            "Iteration 40, x: -0.6195093393325806, loss: -0.4892335534095764\n",
            "Iteration 50, x: -0.6195093393325806, loss: -0.4892335534095764\n",
            "Iteration 60, x: -0.6195093393325806, loss: -0.4892335534095764\n",
            "Iteration 70, x: -0.6195093393325806, loss: -0.4892335534095764\n",
            "Iteration 80, x: -0.6195093393325806, loss: -0.4892335534095764\n",
            "Iteration 90, x: -0.6195093393325806, loss: -0.4892335534095764\n",
            "Optimized x for f(x): -0.6195093393325806\n",
            "Since we started outside the range found in the plot above, the optimized x value is not the global minimum of the function f(x).\n"
          ]
        }
      ],
      "source": [
        "#3. \n",
        "# Gradient Descent loop\n",
        "def gradient_descent(learning_rate=0.01, num_iterations=100):\n",
        "    x = torch.tensor([-1.0], requires_grad=True)  # Initialize x outside the range of the global minimum\n",
        "    for i in range(num_iterations):\n",
        "        # Calculate function value\n",
        "        loss = f(x)\n",
        "        \n",
        "        # Backpropagate to calculate gradients\n",
        "        loss.backward()\n",
        "        \n",
        "        # Update x using gradient descent\n",
        "        with torch.no_grad():  # No tracking of operations for the update step\n",
        "            x -= learning_rate * x.grad\n",
        "        \n",
        "        # Zero the gradients after updating\n",
        "        x.grad.zero_()\n",
        "        \n",
        "        if i % 10 == 0:\n",
        "            print(f\"Iteration {i}, x: {x.item()}, loss: {loss.item()}\")\n",
        "    \n",
        "    return x\n",
        "\n",
        "# Apply gradient descent outside the range of the global minimum \n",
        "optimized_x = gradient_descent(learning_rate=0.01, num_iterations=100)\n",
        "\n",
        "print(f\"Optimized x for f(x): {optimized_x.item()}\")\n",
        "print(\"Since we started outside the range found in the plot above, the optimized x value is not the global minimum of the function f(x).\")"
      ]
    },
    {
      "cell_type": "code",
      "execution_count": 251,
      "metadata": {},
      "outputs": [
        {
          "name": "stdout",
          "output_type": "stream",
          "text": [
            "Iteration 0, x: -0.1710609346628189, loss: -1.4981602430343628\n",
            "Iteration 10, x: -0.1726929098367691, loss: -1.8406997919082642\n",
            "Iteration 20, x: -0.1726929396390915, loss: -1.8406997919082642\n",
            "Iteration 30, x: -0.1726929396390915, loss: -1.8406997919082642\n",
            "Iteration 40, x: -0.1726929396390915, loss: -1.8406997919082642\n",
            "Iteration 50, x: -0.1726929396390915, loss: -1.8406997919082642\n",
            "Iteration 60, x: -0.1726929396390915, loss: -1.8406997919082642\n",
            "Iteration 70, x: -0.1726929396390915, loss: -1.8406997919082642\n",
            "Iteration 80, x: -0.1726929396390915, loss: -1.8406997919082642\n",
            "Iteration 90, x: -0.1726929396390915, loss: -1.8406997919082642\n",
            "Optimized x for f(x): -0.17269295454025269\n",
            "Since we started near the global minimum found in the plot above, the optimized x value is close to the global minimum of the function f(x).\n"
          ]
        }
      ],
      "source": [
        "#3. Gradient Descent with a starting point near the global minimum\n",
        "# Gradient Descent loop\n",
        "def gradient_descent(learning_rate=0.01, num_iterations=100):\n",
        "    x = torch.tensor([-0.25], requires_grad=True)  # Initialize x near the global minimum\n",
        "    for i in range(num_iterations):\n",
        "        # Calculate function value\n",
        "        loss = f(x)\n",
        "        \n",
        "        # Backpropagate to calculate gradients\n",
        "        loss.backward()\n",
        "        \n",
        "        # Update x using gradient descent\n",
        "        with torch.no_grad():  # No tracking of operations for the update step\n",
        "            x -= learning_rate * x.grad\n",
        "        \n",
        "        # Zero the gradients after updating\n",
        "        x.grad.zero_()\n",
        "        \n",
        "        if i % 10 == 0:\n",
        "            print(f\"Iteration {i}, x: {x.item()}, loss: {loss.item()}\")\n",
        "    \n",
        "    return x\n",
        "\n",
        "# Apply gradient descent near the global minimum\n",
        "optimized_x = gradient_descent(learning_rate=0.01, num_iterations=100)\n",
        "\n",
        "print(f\"Optimized x for f(x): {optimized_x.item()}\")\n",
        "print(\"Since we started near the global minimum found in the plot above, the optimized x value is close to the global minimum of the function f(x).\")"
      ]
    },
    {
      "cell_type": "markdown",
      "metadata": {
        "id": "rzMreQlfCscd"
      },
      "source": [
        "## part 4 - modifying gradient descent (6 points)\n",
        "\n",
        "Suppose again that we have the following function:\n",
        "$$\n",
        "f(x) = x^2 + \\sin(\\pi x) + 0.5 \\sin(2\\pi x) + 0.5 \\sin(3\\pi x) + 0.5 \\sin(4\\pi x)\n",
        "$$\n",
        "and we want to find the value of $x$ that __globally minimizes__ $f(x)$.\n",
        "\n",
        "This time, lets assume that we do not know what the valid starting points are. Think of a way to modify your gradient descent procedure to find the global minima of this function for any starting point in $[-2, 2]$. Implement your idea and test it on the starting points $\\{-2, -1, 0, 1, 2\\}$.\n",
        "  - Couple of ideas to consider:\n",
        "    1. High learning rates can help explore parameter space quickly. Low learning rates help convergence.\n",
        "    2. Small amounts of noise added to the gradient updates can help jump out of local minima\n",
        "    3. Repeated reinitialization might land you in the optimal starting zone by chance\n",
        "    4. This function is close to a simple convex function, maybe the convex function's minima is close to this functions minima?\n",
        "\n",
        "  - Describe the pros and cons of your solution in terms of how often you observe it converging to the correct value and how long it takes to run.\n",
        "  - Do not cheat and manually reinitialize in the valid region you found in part 3."
      ]
    },
    {
      "cell_type": "code",
      "execution_count": 252,
      "metadata": {
        "id": "ukHukTVOCrwy"
      },
      "outputs": [
        {
          "name": "stdout",
          "output_type": "stream",
          "text": [
            "Global minimum of f(x): -1.8406977653503418\n",
            "x value where the global minimum occurs: -0.17286968231201172\n"
          ]
        }
      ],
      "source": [
        "# define the function f(x) = x^2 + sin(pi*x) + 0.5sin(2*pi*x)+0.5sin(3*pi*x)+0.5sin(4*pi*x)\n",
        "def f(x):\n",
        "    return x**2 + torch.sin(math.pi * x) + 0.5 * torch.sin(2 * math.pi * x) + 0.5 * torch.sin(3 * math.pi * x) + 0.5 * torch.sin(4 * math.pi * x)\n",
        "\n",
        "# Modified gradient descent loop with starting points and restarts to find the global minimum\n",
        "# Gradient Descent loop\n",
        "def gradient_descent_with_restarts(starting_points, learning_rate = 0.1, num_iterations=1000, noise_scale = 0.05, tolerance=1e-6):\n",
        "    best_x = None # Variable to store the best x value\n",
        "    best_f = float('inf') # Initialize the best function value to infinity\n",
        "\n",
        "    for x0 in starting_points:\n",
        "        \n",
        "        x = torch.tensor([x0], dtype=torch.float32, requires_grad=True) #Convert the starting point to a tensor\n",
        "        \n",
        "        for i in range(num_iterations):\n",
        "            # Calculate function value\n",
        "            loss = f(x) \n",
        "\n",
        "            # Backpropagate to calculate gradients\n",
        "            loss.backward() \n",
        "            \n",
        "            # Generate small noise to add to the gradient to escape local minima\n",
        "            noise = torch.randn_like(x) * noise_scale\n",
        "\n",
        "            # Update x using gradient descent\n",
        "            with torch.no_grad():  # No tracking of operations for the update step\n",
        "                x_new = x - learning_rate * (x.grad.item() + noise) \n",
        "\n",
        "                if abs(x_new.item() - x.item()) < tolerance: # Check if the change in x is below the tolerance  \n",
        "                    break # Break the loop if the change in x is below the tolerance\n",
        "\n",
        "                # Update x with the new value\n",
        "                x.copy_(torch.tensor([x_new.item()], dtype=torch.float32, requires_grad=True))\n",
        "\n",
        "                # Zero the gradients after updating\n",
        "                x.grad.zero_()\n",
        "\n",
        "                # Decay the learning rate for better convergence\n",
        "                learning_rate *= 0.99\n",
        "\n",
        "        if loss.item() < best_f: # Check if the current loss is better than the best loss \n",
        "            best_x = x # Update the best x value\n",
        "            best_f = loss.item() # Update the best loss value\n",
        "                \n",
        "    return best_x.item(), best_f \n",
        "\n",
        "# Define the starting points [-2, 1, 0, -1, 2] for the gradient descent\n",
        "starting_points = [-2, 1, 0, -1, 2]\n",
        "\n",
        "# Run the modified gradient descent with the starting points\n",
        "global_min_x, global_min_f = gradient_descent_with_restarts(starting_points)\n",
        "\n",
        "# Print the global minimum of the function f(x)\n",
        "print(\"Global minimum of f(x):\", global_min_f)\n",
        "print(\"x value where the global minimum occurs:\", global_min_x)\n"
      ]
    },
    {
      "cell_type": "markdown",
      "metadata": {},
      "source": [
        "  - Describe the pros and cons of your solution in terms of how often you observe it converging to the correct value and how long it takes to run.\n",
        "\n",
        "  The pros for the restart variation of the gradient descent function is that the multiple restarts, increases the chance that the final best_x local minimum is the global minimum. Furthermore, the function adds a noise parameter to ensure we can get out of a local minimum."
      ]
    },
    {
      "cell_type": "markdown",
      "metadata": {
        "id": "Npr6MYfkcYLy"
      },
      "source": [
        "## part 5 - fitting models (8 points)\n",
        "\n",
        "Use pytorch to fit the following models to the provided data (do not change the data)\n",
        "\n",
        "- $f(x) = \\alpha + \\beta_1 x$\n",
        "- $g(x) = \\alpha + \\beta_1 x + \\beta_2 x^2$\n",
        "- $h(x) = \\alpha + \\beta_1 x  + \\beta_2 x^2 + \\beta_3 \\sin(\\beta_4 x)$\n",
        "\n",
        "1. Each of these models represents a function from a certain model class. Which class is the largest and which is the smallest?\n",
        "2. Which model should achieve the lowest training MSE? Which model should have highest training MSE?\n",
        "3. Fit each model to the data using the MSE loss and compare their training MSEs. Which model actually achieved the lowest training MSE?\n",
        "4. Evaluate each model on the test data. Which model had the lowest test MSE?\n"
      ]
    },
    {
      "cell_type": "code",
      "execution_count": 253,
      "metadata": {
        "colab": {
          "base_uri": "https://localhost:8080/",
          "height": 447
        },
        "id": "1Jo3wtnAc0E1",
        "outputId": "0cba67fd-b0c2-4201-e22d-27ec254b49fe"
      },
      "outputs": [
        {
          "data": {
            "text/plain": [
              "<matplotlib.collections.PathCollection at 0x15108d390>"
            ]
          },
          "execution_count": 253,
          "metadata": {},
          "output_type": "execute_result"
        },
        {
          "data": {
            "image/png": "[encoded data removed]",
            "text/plain": [
              "<Figure size 640x480 with 1 Axes>"
            ]
          },
          "metadata": {},
          "output_type": "display_data"
        }
      ],
      "source": [
        "np.random.seed(0)\n",
        "x = np.random.normal(0, 1, [50, 1])\n",
        "y = np.exp(-x**2/3) + np.random.normal(0, 1/3, [50, 1])\n",
        "\n",
        "plt.scatter(x, y)"
      ]
    },
    {
      "cell_type": "markdown",
      "metadata": {},
      "source": [
        "1. Each of these models represents a function from a certain model class. Which class is the largest and which is the smallest?\n",
        "\n",
        "The model f(x) is a linear model, the second model g(x) is a quadratic model, the third model h(x) has a sine term and a quadratic term thus it is a non-linear model. Since h(x) is a non-linear model with both a quadratic term and sine term it is the most flexible function and will be able to fit the data in the plot above the best. This makes it the largest class. The smallest class is f(x) due it being a linear model that may not best capture the non-linear nature of the plot above. "
      ]
    },
    {
      "cell_type": "markdown",
      "metadata": {},
      "source": [
        "2. Which model should achieve the lowest training MSE? Which model should have highest training MSE?\n",
        "\n",
        "Since h(x) is the largest class, the MSE training will be the lowest as it can best fit the data in the plot above. The highest MSE training will be the f(x) model, due to it being a linear model. Since it will not be able to represent an non-linear features of the actual model the error will be the highest of the three functions. "
      ]
    },
    {
      "cell_type": "code",
      "execution_count": 254,
      "metadata": {
        "id": "YQKaOU6uYjF-"
      },
      "outputs": [],
      "source": [
        "#3. Fit the models\n",
        "# Define f(x) the linear model\n",
        "class LinearModel(torch.nn.Module):\n",
        "    def __init__(self):\n",
        "        super(LinearModel, self).__init__()\n",
        "        self.alpha = torch.nn.Parameter(torch.randn(1))\n",
        "        self.beta1 = torch.nn.Parameter(torch.randn(1))\n",
        "    \n",
        "    def forward(self, x):\n",
        "        return self.alpha + self.beta1 * x\n",
        "\n",
        "# Define g(x) the quadratic model\n",
        "class QuadraticModel(torch.nn.Module):\n",
        "    def __init__(self):\n",
        "        super(QuadraticModel, self).__init__()\n",
        "        self.alpha = torch.nn.Parameter(torch.randn(1))\n",
        "        self.beta1 = torch.nn.Parameter(torch.randn(1))\n",
        "        self.beta2 = torch.nn.Parameter(torch.randn(1))\n",
        "    \n",
        "    def forward(self, x):\n",
        "        x = x.view(-1, 1)  # Ensure x is at least 2D\n",
        "        return self.alpha + self.beta1 * x + self.beta2 * x**2\n",
        "\n",
        "# Define h(x) the non-linear model\n",
        "class NonLinearModel(torch.nn.Module):\n",
        "    def __init__(self):\n",
        "        super(NonLinearModel, self).__init__()\n",
        "        self.alpha = torch.nn.Parameter(torch.randn(1))\n",
        "        self.beta1 = torch.nn.Parameter(torch.randn(1))\n",
        "        self.beta2 = torch.nn.Parameter(torch.randn(1))\n",
        "        self.beta3 = torch.nn.Parameter(torch.randn(1))\n",
        "        self.beta4 = torch.nn.Parameter(torch.randn(1))\n",
        "\n",
        "    \n",
        "    def forward(self, x):\n",
        "        return self.alpha + self.beta1 * x + self.beta2 * x**2 + self.beta3 * torch.sin(self.beta4 * x)\n"
      ]
    },
    {
      "cell_type": "code",
      "execution_count": 255,
      "metadata": {},
      "outputs": [],
      "source": [
        "#Convert the data to PyTorch tensors\n",
        "x_tensor = torch.tensor(x, dtype=torch.float32)\n",
        "y_tensor = torch.tensor(y, dtype=torch.float32)\n",
        "\n",
        "#Split the data into training and testing sets\n",
        "x_train, x_test, y_train, y_test = train_test_split(x, y, test_size=0.2, random_state=0)"
      ]
    },
    {
      "cell_type": "code",
      "execution_count": 256,
      "metadata": {},
      "outputs": [],
      "source": [
        "# Function to train a model using MSE loss\n",
        "def train_model(model, X_train, Y_train, lr=0.1, epochs=1000):\n",
        "    optimizer = torch.optim.SGD(model.parameters(), lr=lr)\n",
        "    loss_fn = torch.nn.MSELoss()\n",
        "    \n",
        "    for _ in range(epochs):\n",
        "        optimizer.zero_grad()  # Reset gradients\n",
        "        loss = loss_fn(model(X_train), Y_train)  # Compute loss\n",
        "        loss.backward()  # Backpropagate\n",
        "        optimizer.step()  # Update parameters\n",
        "    \n",
        "    return loss.item()  # Return final training loss"
      ]
    },
    {
      "cell_type": "code",
      "execution_count": 257,
      "metadata": {},
      "outputs": [
        {
          "name": "stdout",
          "output_type": "stream",
          "text": [
            "Linear Model - Training MSE: 0.1802, Test MSE: 0.0923\n"
          ]
        }
      ],
      "source": [
        "# Call the Linear Model defined above\n",
        "linear_model = LinearModel()\n",
        "\n",
        "# Train the Linear Model\n",
        "train_loss_linear = train_model(linear_model, torch.tensor(x_train, dtype=torch.float32), torch.tensor(y_train, dtype=torch.float32))\n",
        "\n",
        "# Evaluate the Linear Model\n",
        "with torch.no_grad():\n",
        "    test_loss_linear = torch.nn.MSELoss()(linear_model(torch.tensor(x_test, dtype=torch.float32)), torch.tensor(y_test, dtype=torch.float32)).item()\n",
        "\n",
        "print(f\"Linear Model - Training MSE: {train_loss_linear:.4f}, Test MSE: {test_loss_linear:.4f}\")"
      ]
    },
    {
      "cell_type": "code",
      "execution_count": 258,
      "metadata": {},
      "outputs": [
        {
          "name": "stdout",
          "output_type": "stream",
          "text": [
            "Quadratic Model - Training MSE: 0.0966, Test MSE: 0.0599\n"
          ]
        }
      ],
      "source": [
        "# Call the Quadratic Model defined above\n",
        "quadratic_model = QuadraticModel()\n",
        "\n",
        "# Train the Quadratic Model\n",
        "train_loss_quadratic = train_model(quadratic_model, torch.tensor(x_train, dtype=torch.float32), torch.tensor(y_train, dtype=torch.float32))\n",
        "\n",
        "# Evaluate the Quadratic Model\n",
        "with torch.no_grad():\n",
        "    test_loss_quadratic = torch.nn.MSELoss()(quadratic_model(torch.tensor(x_test, dtype=torch.float32)), torch.tensor(y_test, dtype=torch.float32)).item()\n",
        "\n",
        "print(f\"Quadratic Model - Training MSE: {train_loss_quadratic:.4f}, Test MSE: {test_loss_quadratic:.4f}\")"
      ]
    },
    {
      "cell_type": "code",
      "execution_count": 259,
      "metadata": {},
      "outputs": [
        {
          "name": "stdout",
          "output_type": "stream",
          "text": [
            "Nonlinear Model - Training MSE: 0.0967, Test MSE: 0.0599\n"
          ]
        }
      ],
      "source": [
        "#Call the Nonlinear Model defined above\n",
        "nonlinear_model = NonLinearModel()\n",
        "\n",
        "# Train the Nonlinear Model\n",
        "train_loss_nonlinear = train_model(nonlinear_model, torch.tensor(x_train, dtype=torch.float32), torch.tensor(y_train, dtype=torch.float32))\n",
        "\n",
        "# Evaluate the Nonlinear Model\n",
        "with torch.no_grad():\n",
        "    test_loss_nonlinear = torch.nn.MSELoss()(nonlinear_model(torch.tensor(x_test, dtype=torch.float32)), torch.tensor(y_test, dtype=torch.float32)).item()\n",
        "\n",
        "print(f\"Nonlinear Model - Training MSE: {train_loss_nonlinear:.4f}, Test MSE: {test_loss_nonlinear:.4f}\")"
      ]
    },
    {
      "cell_type": "markdown",
      "metadata": {},
      "source": [
        "3. Fit each model to the data using the MSE loss and compare their training MSEs. Which model actually achieved the lowest training MSE?\n",
        "\n",
        "The lowest training MSE loss from the three models was the Non-linear model, with 0.0956. The highest training MSE los is the Linear model with 0.1802. "
      ]
    },
    {
      "cell_type": "markdown",
      "metadata": {},
      "source": [
        "4. Evaluate each model on the test data. Which model had the lowest test MSE?\n",
        "\n",
        "The lowest test MSE loss was actually the quadratic model with 0.0599, instead of the Non-linear model with 0.0604."
      ]
    },
    {
      "cell_type": "markdown",
      "metadata": {
        "id": "y4W0TEpMEeea"
      },
      "source": [
        "# Q4 - Application (10 points)\n",
        "\n",
        "You are in charge of monitoring air quality in Italy. Your job is to predict the concentration of CO, C6H6, NOx, and NO2 based on sensor readings of temperature, humidity, and various other gas concentrations. Use the following dataset to build a single linear regression model that uses the 9 features to predict the 4 targets. Verify that your model has converged on train and that it generalizes to validation (each loss < 0.03). When you have settled on an optimal model, check and report the loss on train, test, and validation and compare these numbers.\n",
        "\n",
        "_hint: consider a low learning rate and long training time_"
      ]
    },
    {
      "cell_type": "code",
      "execution_count": 260,
      "metadata": {
        "colab": {
          "base_uri": "https://localhost:8080/"
        },
        "id": "vgC2l3VniJpE",
        "outputId": "cb4d9bfe-0510-4ba9-ff2c-2e95cc724be8"
      },
      "outputs": [
        {
          "name": "stdout",
          "output_type": "stream",
          "text": [
            "Requirement already satisfied: ucimlrepo in /opt/anaconda3/envs/hw1_env/lib/python3.10/site-packages (0.0.7)\n",
            "Requirement already satisfied: pandas>=1.0.0 in /opt/anaconda3/envs/hw1_env/lib/python3.10/site-packages (from ucimlrepo) (2.2.3)\n",
            "Requirement already satisfied: certifi>=2020.12.5 in /opt/anaconda3/envs/hw1_env/lib/python3.10/site-packages (from ucimlrepo) (2024.12.14)\n",
            "Requirement already satisfied: numpy>=1.22.4 in /opt/anaconda3/envs/hw1_env/lib/python3.10/site-packages (from pandas>=1.0.0->ucimlrepo) (2.2.1)\n",
            "Requirement already satisfied: python-dateutil>=2.8.2 in /opt/anaconda3/envs/hw1_env/lib/python3.10/site-packages (from pandas>=1.0.0->ucimlrepo) (2.9.0.post0)\n",
            "Requirement already satisfied: pytz>=2020.1 in /opt/anaconda3/envs/hw1_env/lib/python3.10/site-packages (from pandas>=1.0.0->ucimlrepo) (2024.1)\n",
            "Requirement already satisfied: tzdata>=2022.7 in /opt/anaconda3/envs/hw1_env/lib/python3.10/site-packages (from pandas>=1.0.0->ucimlrepo) (2023.3)\n",
            "Requirement already satisfied: six>=1.5 in /opt/anaconda3/envs/hw1_env/lib/python3.10/site-packages (from python-dateutil>=2.8.2->pandas>=1.0.0->ucimlrepo) (1.16.0)\n",
            "Note: you may need to restart the kernel to use updated packages.\n"
          ]
        }
      ],
      "source": [
        "%pip install ucimlrepo"
      ]
    },
    {
      "cell_type": "code",
      "execution_count": 261,
      "metadata": {
        "id": "K9LGwcSfEjnz"
      },
      "outputs": [],
      "source": [
        "from ucimlrepo import fetch_ucirepo\n",
        "\n",
        "# fetch dataset\n",
        "air_quality = fetch_ucirepo(id=360)\n",
        "\n",
        "# data (as pandas dataframes)\n",
        "x = air_quality.data.features\n",
        "x = x.dropna()\n",
        "\n",
        "# separate into actual features and targets\n",
        "y = torch.tensor(np.array(x.loc[:,['CO(GT)', 'C6H6(GT)', 'NOx(GT)', 'NO2(GT)']]))\n",
        "x = torch.tensor(np.array(x.drop(['Date', 'Time', 'CO(GT)', 'C6H6(GT)', 'NOx(GT)', 'NO2(GT)'], axis = 1)))\n",
        "\n",
        "# rescale\n",
        "x = torch.exp(x/1000)\n",
        "y = torch.exp(y/1000)\n",
        "\n",
        "# train, test, val\n",
        "xtrain, xtest, ytrain, ytest = train_test_split(x, y, test_size=0.2, random_state=42)\n",
        "xtrain, xval, ytrain, yval = train_test_split(xtrain, ytrain, test_size=0.2, random_state=42)"
      ]
    },
    {
      "cell_type": "code",
      "execution_count": 262,
      "metadata": {},
      "outputs": [],
      "source": [
        "# Standardize the features\n",
        "xtrain_mean = xtrain.mean(dim=0)\n",
        "xtrain_std = xtrain.std(dim=0)\n",
        "xtrain = (xtrain - xtrain_mean) / xtrain_std\n",
        "xval = (xval - xtrain_mean) / xtrain_std\n",
        "xtest = (xtest - xtrain_mean) / xtrain_std\n"
      ]
    },
    {
      "cell_type": "code",
      "execution_count": 263,
      "metadata": {},
      "outputs": [],
      "source": [
        "# Define the model\n",
        "class LinearRegressionModel(torch.nn.Module):\n",
        "    def __init__(self, input_dim, output_dim):\n",
        "        super(LinearRegressionModel, self).__init__()\n",
        "        self.linear = torch.nn.Linear(input_dim, output_dim, bias=True)\n",
        "        \n",
        "    def forward(self, x):\n",
        "        return self.linear(x)"
      ]
    },
    {
      "cell_type": "code",
      "execution_count": 264,
      "metadata": {},
      "outputs": [],
      "source": [
        "# Initialize the model\n",
        "input_dim = xtrain.shape[1] # 9 features\n",
        "output_dim = ytrain.shape[1] # 4 targets\n",
        "\n",
        "model = LinearRegressionModel(input_dim, output_dim)"
      ]
    },
    {
      "cell_type": "code",
      "execution_count": 265,
      "metadata": {},
      "outputs": [],
      "source": [
        "# Define the loss function (MSE)\n",
        "criterion = torch.nn.MSELoss()\n",
        "\n",
        "# Define the optimizer (Gradient Descent)\n",
        "optimizer = torch.optim.SGD(model.parameters(), lr=0.01)"
      ]
    },
    {
      "cell_type": "code",
      "execution_count": 266,
      "metadata": {},
      "outputs": [
        {
          "name": "stdout",
          "output_type": "stream",
          "text": [
            "Epoch 0, Training Loss: 1.52732515335083, Validation Loss: 1.5090632438659668\n",
            "Epoch 100, Training Loss: 0.48611000180244446, Validation Loss: 0.48726722598075867\n",
            "Epoch 200, Training Loss: 0.2011706382036209, Validation Loss: 0.20185565948486328\n",
            "Epoch 300, Training Loss: 0.09695285558700562, Validation Loss: 0.09798674285411835\n",
            "Epoch 400, Training Loss: 0.0559295155107975, Validation Loss: 0.057314906269311905\n",
            "Epoch 500, Training Loss: 0.038707196712493896, Validation Loss: 0.04031910374760628\n",
            "Epoch 600, Training Loss: 0.030871698632836342, Validation Loss: 0.03261026367545128\n",
            "Validation Loss below 0.03 at Epoch 661\n"
          ]
        }
      ],
      "source": [
        "# Ensure all tensors are of the same dtype\n",
        "xtrain = xtrain.float()\n",
        "ytrain = ytrain.float()\n",
        "xval = xval.float()\n",
        "yval = yval.float()\n",
        "\n",
        "num_epochs = 1000\n",
        "\n",
        "train_losses = []\n",
        "val_losses = []\n",
        "\n",
        "for epoch in range(num_epochs):\n",
        "    # Set the model to training mode\n",
        "    model.train()\n",
        "    \n",
        "    # Forward pass\n",
        "    ytrain_pred = model(xtrain)\n",
        "    \n",
        "    # Compute the loss\n",
        "    loss = criterion(ytrain_pred, ytrain)\n",
        "    \n",
        "    # Zero gradients, backward pass, and update weights\n",
        "    optimizer.zero_grad()\n",
        "    loss.backward()\n",
        "    optimizer.step()\n",
        "    \n",
        "    # Set the model to evaluation mode\n",
        "    model.eval()\n",
        "    \n",
        "    # Compute the validation loss\n",
        "    with torch.no_grad():\n",
        "        yval_pred = model(xval)\n",
        "        val_loss = criterion(yval_pred, yval)\n",
        "    \n",
        "    train_losses.append(loss.item())\n",
        "    val_losses.append(val_loss.item())\n",
        "    \n",
        "    if epoch % 100 == 0:\n",
        "        print(f\"Epoch {epoch}, Training Loss: {loss.item()}, Validation Loss: {val_loss.item()}\")\n",
        "    \n",
        "    # Check if the validation loss is below a threshold of 0.03\n",
        "    if val_loss.item() < 0.03:\n",
        "        print(f\"Validation Loss below 0.03 at Epoch {epoch}\")\n",
        "        break"
      ]
    }
  ],
  "metadata": {
    "colab": {
      "provenance": []
    },
    "kernelspec": {
      "display_name": "hw1_env",
      "language": "python",
      "name": "python3"
    },
    "language_info": {
      "codemirror_mode": {
        "name": "ipython",
        "version": 3
      },
      "file_extension": ".py",
      "mimetype": "text/x-python",
      "name": "python",
      "nbconvert_exporter": "python",
      "pygments_lexer": "ipython3",
      "version": "3.10.16"
    }
  },
  "nbformat": 4,
  "nbformat_minor": 0
}
