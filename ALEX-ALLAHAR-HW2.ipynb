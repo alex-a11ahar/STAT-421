{
  "cells": [
    {
      "cell_type": "markdown",
      "metadata": {
        "id": "YAjfwfJnbOA9"
      },
      "source": [
        "# HW 2 - Linear Model, Logistic Regression and Classification\n",
        "\n",
        "Complete the following questions and resubmit this entire notebook to canvas.\n",
        "- For questions that ask you to derive or find a quantity use a __text cell__ to show your calculations.\n",
        " - Use markdown to write math expressions (as was done to create these problems) and make sure to show your work.\n",
        " - It doesnt have to be perfect looking but it needs to be readible.\n",
        " - You may also submit a legible picture of your derivation\n",
        "- For questions that ask you compute something or write code use a __code cell__ to write your code.\n",
        " - You can create additional code cells as needed.\n",
        " - Just make sure your code is commented, the functions are named appropriately, and its easy to see your final answer.\n",
        "- The total points on this homework is 100. Out of these 5 points are reserved for clarity of presentation,\n",
        "punctuation and commenting with respect to the code.\n",
        "\n",
        "__SUBMISSION__\n",
        "\n",
        "When you submit you will submit a pdf file __and__ the notebook file. The TA will use the pdf file to grade more quickly. The notebook file is there to confirm your work.\n",
        "\n",
        "To generate a pdf file\n",
        "1. Click File\n",
        "2. Click print\n",
        "3. Set the destinationas \"save as pdf\"\n",
        "4. Hit print\n",
        "\n",
        "Title the pdf file `LASTNAME-FIRSTNAME-HW2.pdf`\n",
        "Title your notebook file as `LASTNAME-FIRSTNAME-HW2.ipynb`\n",
        "\n",
        "Submit both files.\n",
        "\n",
        "Do not actually print your notebook out (what year is this?)\n",
        "\n"
      ]
    },
    {
      "cell_type": "code",
      "execution_count": 1,
      "metadata": {
        "id": "UuskEPisiG1A"
      },
      "outputs": [],
      "source": [
        "# libraries and functions you may find useful\n",
        "import math\n",
        "import numpy as np\n",
        "import pandas as pd\n",
        "import matplotlib.pyplot as plt\n",
        "import torch\n",
        "from sklearn.model_selection import train_test_split\n",
        "from tqdm.notebook import trange"
      ]
    },
    {
      "cell_type": "markdown",
      "metadata": {
        "id": "GIfiVwTHY0sI"
      },
      "source": [
        "## Q1 - Linear Model (25 points)\n",
        "\n",
        "Let\n",
        "- $X_{n \\times p}$ be a data matrix with $n$ observations and $p$ features\n",
        "- $Y_{n \\times 1}$ be a response matrix with $n$ observations and 1 outcomes\n",
        "- $\\beta_{p \\times 1}$ be an unknown $p$ dimensional __slope__ vector\n",
        "\n",
        "We assume a linear model to predict Y using X\n",
        "- $Y = X \\beta + \\epsilon$\n",
        "- $\\epsilon \\sim N(0, \\sigma^2 I_n)$"
      ]
    },
    {
      "cell_type": "markdown",
      "metadata": {
        "id": "HuEpKbVEZ9La"
      },
      "source": [
        "### part 1 - Gradient Descent (5 points)\n",
        "\n",
        "We will use the following loss function:\n",
        "$$L(\\beta) = (Y - X\\beta)^T(Y - X\\beta)$$\n",
        "\n",
        "Show that the gradient of $\\ell(\\beta)$ with respect to $\\beta$ is\n",
        "$$\\nabla \\ell(\\beta) = -2X^T(Y - X\\beta)$$\n",
        "\n"
      ]
    },
    {
      "cell_type": "markdown",
      "metadata": {},
      "source": [
        "#### Gradient Descent (Answer)\n",
        "\n",
        "To find the gradient of the loss function: \n",
        "\n",
        "$$L(\\beta) = (Y - X\\beta)^T(Y - X\\beta)$$\n",
        "\n",
        "First expand the equation: \n",
        "\n",
        "$$L(\\beta) = Y^T Y - 2Y^T X \\beta + \\beta^T X^T X \\beta$$\n",
        "\n",
        "Differentiating each term:\n",
        "\n",
        "$$\\frac{d}{d\\beta} Y^T Y = 0$$\n",
        "\n",
        "$$\\frac{d}{d\\beta} (-2 Y^T X \\beta) = -2 X^T Y$$\n",
        "\n",
        "$$\\frac{d}{d\\beta} (\\beta^T X^T X \\beta) = 2 X^T X \\beta$$\n",
        "\n",
        "Combine the term:\n",
        "\n",
        "$$\\nabla \\ell(\\beta) = -2X^T Y + 2X^T X \\beta$$\n",
        "\n",
        "Once simplfied the gradient of the loss function is:\n",
        "\n",
        "$$\\nabla \\ell(\\beta) = -2X^T(Y - X\\beta)$$\n",
        "\n",
        "This equation is the same as the gradient equation shown above. "
      ]
    },
    {
      "cell_type": "markdown",
      "metadata": {
        "id": "NMLilbgZmFGY"
      },
      "source": [
        "### part 2 - Exact solution (5 points)\n",
        "\n",
        "We want to minimize $L(\\beta)$ so we find the point $\\hat \\beta$ where $\\nabla L(\\hat \\beta) = 0$.\n",
        "\n",
        "Set\n",
        "$$\\nabla L(\\beta) = 0$$\n",
        "to show that\n",
        "$$\n",
        "\\hat \\beta = (X^TX)^{-1}X^TY\n",
        "$$"
      ]
    },
    {
      "cell_type": "markdown",
      "metadata": {},
      "source": [
        "#### Exact solution (Answer)\n",
        "\n",
        "If we set $\\nabla L(\\beta) = 0 $. Then we get the following equation:\n",
        "\n",
        "$ -2X^T (Y - X (\\hat \\beta)) = 0 $, where $ \\hat \\beta $ is the miminize value.\n",
        "\n",
        "To solve for $ \\hat \\beta $ we first expand the equation. \n",
        "\n",
        "$$ -2X^T (Y - X (\\hat \\beta)) = 0 $$\n",
        "\n",
        "$$ X^T (Y - X (\\hat \\beta)) = 0 $$\n",
        "\n",
        "$$ X^T Y - X^T X\\hat \\beta = 0 $$\n",
        "\n",
        "Rearrange so $ \\hat \\beta $ is on the left, by multiplying both sides by $(X^T X)^{-1}$:\n",
        "\n",
        "$$ \\hat \\beta = (X^T X)^{-1} X^T Y $$\n",
        "\n",
        "This solution for $ \\hat \\beta $, is the same as the solution shown above: \n",
        "\n",
        "$$\\hat \\beta = (X^TX)^{-1}X^TY $$\n"
      ]
    },
    {
      "cell_type": "markdown",
      "metadata": {
        "id": "-eZ4rJ9gg31P"
      },
      "source": [
        "### part 3 - Application (10 points)\n",
        "\n",
        "Now, we're going to estimate $\\beta$ in two ways. One with gradient descent and one with the exact method.\n",
        "\n",
        "We will use the `diabetes` dataset from sklearn to test our method. The code below will load this dataset and store the features in a matrix called `x` and the targets in a vector called `y`. Then we will split the data further into training and testing.\n",
        "\n",
        "First, lets write two functions in python\n",
        "\n",
        "1. Write a function called `loss_grad()` that takes a covariate matrix $X$, target vector $Y$, and a parameter vector $\\beta$ and computes $\\nabla \\ell(\\beta)$. `Use the gradient that you derived in previous question`\n",
        "\n",
        "2. Write a function called `exact_beta_hat()` that takes a covariate matrix $X$ and target vector $Y$ and computes the exact solution.\n",
        "\n",
        "\n",
        "Now we will fit a linear model in two ways.\n",
        "\n",
        "1. Gradient descent. Write a gradient descent loop with your `loss_grad()` function to estimate $\\beta$ with `x_train` and `y_train` (don't forget to choose an appropriate $\\gamma$). Store this in a variable called `beta_gd`\n",
        "\n",
        "2. The exact method. Compute the exact estimate $\\hat \\beta$ with your function `exact_beta_hat()` on `x_train` and `y_train`and store the output in a variabled called `beta_exact`\n",
        "\n",
        "Compare `beta_gd` and `beta_exact`. Compare the MSE of each of your fitted models on the test data."
      ]
    },
    {
      "cell_type": "code",
      "execution_count": 2,
      "metadata": {
        "id": "C4vyvJUzg_kT"
      },
      "outputs": [],
      "source": [
        "from sklearn import datasets\n",
        "x, y = datasets.load_diabetes(return_X_y = True)\n",
        "x_train, x_test, y_train, y_test = train_test_split(x, y, test_size=0.33, random_state=42)"
      ]
    },
    {
      "cell_type": "code",
      "execution_count": 3,
      "metadata": {
        "id": "l74B2uqfhUKS"
      },
      "outputs": [],
      "source": [
        "# helper functions\n",
        "\n",
        "# loss_grad()\n",
        "def loss_grad(X, Y, beta):\n",
        "    return -2 * X.T @ (Y - X @ beta) \n",
        "\n",
        "# exact_beta_hat() \n",
        "def exact_beta_hat(X, Y):\n",
        "    return np.linalg.inv(X.T @ X) @ (X.T @ Y)  # Compute (X^T X)^(-1) * X^T * Y"
      ]
    },
    {
      "cell_type": "code",
      "execution_count": 4,
      "metadata": {
        "id": "fPonJUk1hUig"
      },
      "outputs": [
        {
          "name": "stdout",
          "output_type": "stream",
          "text": [
            "Final optimized beta_gd:\n",
            "[ 39.22373759  48.90232219  29.54515299 ...  68.1945349   29.48952861\n",
            " 139.15371311]\n",
            "10\n",
            "Exact solution beta_exact:\n",
            "[  80.34069697 -221.95087994  688.30549181  394.54972402 -218.85751126\n",
            "   -4.14736716 -123.42759485   73.23757513  444.35433862   85.18445811]\n",
            "10\n"
          ]
        }
      ],
      "source": [
        "# gradient descent and exact soln\n",
        "\n",
        "beta = np.zeros((x_train.shape[1], 1))  # Initialize beta for p features (columns in x_train)\n",
        "\n",
        "# Set parameters\n",
        "lr = 0.001  # Learning rate\n",
        "num_iters = 1000  # Number of iterations\n",
        "tol = 1e-6  # Convergence tolerance\n",
        "\n",
        "# Gradient Descent Loop\n",
        "for i in range(num_iters):\n",
        "    grad = loss_grad(x_train, y_train, beta)  # Compute the gradient\n",
        "    beta_new = beta - lr * grad  # Update beta by moving against the gradient\n",
        "\n",
        "    # Check for convergence (if the change in beta is small)\n",
        "    if np.linalg.norm(beta_new - beta) < tol:\n",
        "        beta_gd = beta_new  # Store the most optimized beta value\n",
        "        break  # Stop if converged\n",
        "\n",
        "    beta = beta_new  # Update beta for the next iteration\n",
        "\n",
        "# Store final result in beta_gd\n",
        "if 'beta_gd' not in locals():\n",
        "    beta_gd = beta  # In case the loop ends without convergence\n",
        "\n",
        "# Print final beta_gd\n",
        "print(f\"Final optimized beta_gd:\\n{beta_gd.flatten()}\")\n",
        "print(len(beta_gd))\n",
        "\n",
        "# Compute exact solution beta_exact for comparison\n",
        "beta_exact = exact_beta_hat(x_train, y_train)\n",
        "\n",
        "# Print exact solution beta_exact\n",
        "print(f\"Exact solution beta_exact:\\n{beta_exact}\")\n",
        "print(len(beta_exact))"
      ]
    },
    {
      "cell_type": "code",
      "execution_count": 5,
      "metadata": {
        "id": "y37BpVYPhWbV"
      },
      "outputs": [
        {
          "name": "stdout",
          "output_type": "stream",
          "text": [
            " Comparing beta values: 0:\n",
            "beta_gd: 76.91927761467068\n",
            "beta_exact: 80.3406969748854\n"
          ]
        }
      ],
      "source": [
        "# After the final iteration of gradient descent, get the final beta_gd value\n",
        "final_beta_gd = beta_gd[:, -1]  # Assuming the last column represents the final iteration\n",
        "\n",
        "# Calculate the absolute differences\n",
        "differences = np.abs(final_beta_gd - beta_exact)\n",
        "\n",
        "# Find the index of the smallest difference\n",
        "min_diff_index = np.argmin(differences)\n",
        "\n",
        "# Print the closest beta_gd value and the corresponding beta_exact value\n",
        "print(f\" Comparing beta values: {min_diff_index}:\\n\"\n",
        "      f\"beta_gd: {final_beta_gd[min_diff_index]}\\n\"\n",
        "      f\"beta_exact: {beta_exact[min_diff_index]}\")"
      ]
    },
    {
      "cell_type": "code",
      "execution_count": 6,
      "metadata": {
        "id": "w1qz-9TqhYnt"
      },
      "outputs": [
        {
          "name": "stdout",
          "output_type": "stream",
          "text": [
            "Mean Squared Error using Gradient Descent beta: 28566.39545007861\n",
            "Mean Squared Error using Exact beta: 27369.62744940529\n"
          ]
        }
      ],
      "source": [
        "# Compare test loss\n",
        "\n",
        "# Compute predictions using gradient descent beta\n",
        "final_beta_gd = beta_gd[:, -1]  # Assuming the last column represents the final iteration\n",
        "y_pred_gd = x_test @ final_beta_gd\n",
        "\n",
        "# Compute predictions using exact beta\n",
        "y_pred_exact = x_test @ beta_exact\n",
        "\n",
        "# Compute MSE for gradient descent beta\n",
        "mse_gd = np.mean((y_test - y_pred_gd.flatten())**2)\n",
        "\n",
        "# Compute MSE for exact beta\n",
        "mse_exact = np.mean((y_test - y_pred_exact.flatten())**2)\n",
        "\n",
        "# Print the MSE values\n",
        "print(f\"Mean Squared Error using Gradient Descent beta: {mse_gd}\")\n",
        "print(f\"Mean Squared Error using Exact beta: {mse_exact}\")"
      ]
    },
    {
      "cell_type": "markdown",
      "metadata": {
        "id": "bW1vthM0bUqK"
      },
      "source": [
        "### part 4 - Loss function (5 points)\n",
        "\n",
        "What if we had assumed $\\epsilon_i \\sim Laplace(0, \\sigma)$? i.e\n",
        "$$\n",
        "\\mathcal{L}(\\beta \\mid \\{(x_i y_i)\\}_{i = 1}^n) = \\prod_{i =1}^n \\frac{1}{2 \\sigma} \\exp \\left(-\\frac{|y_i - x_i \\beta|}{\\sigma} \\right)\n",
        "$$\n",
        "\n",
        "Derive the following loss function from the likelihood,\n",
        "$$\\sum_{i=1}^n |y_i - x_i \\beta|.$$\n",
        "Show that maximizing the likelihood is equivelant as minimizing the loss function.\n",
        "Hint: Check the example we have discussed in the class.\n",
        "\n"
      ]
    },
    {
      "cell_type": "markdown",
      "metadata": {},
      "source": [
        "Starting with the Laplace function: \n",
        "\n",
        "$$ \n",
        "\\mathcal{L}(\\beta \\mid \\{(x_i y_i)\\}_{i = 1}^n) = \\prod_{i =1}^n \\frac{1}{2 \\sigma} \\exp \\left(-\\frac{|y_i - x_i \\beta|}{\\sigma} \\right)\n",
        "$$\n",
        "\n",
        "The first step is to tak the log-likelihood: \n",
        "\n",
        "$$\n",
        "\\log \\mathcal{L}(\\beta) = \\sum_{i=1}^{n} \\log \\left( \\frac{1}{2\\sigma} \\exp \\left(-\\frac{|y_i - x_i \\beta|}{\\sigma} \\right) \\right)\n",
        "$$\n",
        "\n",
        "Simplify the expression:\n",
        "\n",
        "$$\n",
        "\\log \\mathcal{L}(\\beta) = \\sum_{i=1}^{n} \\left( \\log \\frac{1}{2\\sigma} - \\frac{|y_i - x_i \\beta|}{\\sigma} \\right)\n",
        "$$\n",
        "\n",
        "Maximize the Log-Likelihood: \n",
        "\n",
        "$$\n",
        "\\max_{\\beta} \\log \\mathcal{L}(\\beta) = -n \\log (2\\sigma) - \\frac{1}{\\sigma} \\sum_{i=1}^{n} |y_i - x_i \\beta|\n",
        "$$\n",
        "\n",
        "Since the first term $ -n \\log (2\\sigma) $ is a constant the final expression when maxmining $ \\log \\mathcal{L}(\\beta) $ is: \n",
        "\n",
        "$$\n",
        "\\sum_{i=1}^{n} |y_i - x_i \\beta|\n",
        "$$\n",
        "\n",
        "This final expression is the same as the loss function above: \n",
        "\n",
        "$$\\sum_{i=1}^n |y_i - x_i \\beta|.$$"
      ]
    },
    {
      "cell_type": "markdown",
      "metadata": {
        "id": "PvMh9dRWbX3O"
      },
      "source": [
        "## Q2 - Classification (18 points)\n",
        "\n",
        "In class we used sigmoids and logits to change between probabilities (values on $(0, 1)$) and unbounded values. But this isnt the only option. There are many functions that can map between the two. Another function that does this is\n",
        "\n",
        "$$g(x) = (\\tanh(x) + 1)/2$$\n",
        "\n",
        "where the hyperbolic tangent function is defined as\n",
        "$$\\tanh(x) = \\frac{\\exp(x) - \\exp(-x)}{\\exp(x) + \\exp(-x)}$$\n",
        "\n",
        "Lets re-implement logistic regression with a hyperbolic tangent non-linearity.\n"
      ]
    },
    {
      "cell_type": "markdown",
      "metadata": {
        "id": "idyqIgVpy4lC"
      },
      "source": [
        "### part 1 - Implement the model (6 points)\n",
        "\n",
        "Create a pytorch compatible class called ``LogisticRegressionTanh()`` that is exactly the same as ordinary logistic regression except that the sigmoid is replaced with ``g()``. You may use pytorches built in ``torch.tanh()`` function.\n",
        "\n",
        "Replace the `pass` statements with your own code"
      ]
    },
    {
      "cell_type": "code",
      "execution_count": 7,
      "metadata": {
        "id": "rLvIEsmby41h"
      },
      "outputs": [],
      "source": [
        "import torch\n",
        "import torch.nn as nn\n",
        "\n",
        "def g(z):\n",
        "    return torch.tanh(z)\n",
        "\n",
        "class LogisticRegressionTanh(nn.Module):\n",
        "    def __init__(self, x, y):\n",
        "        super(LogisticRegressionTanh, self).__init__()\n",
        "        input_dim = x.shape[1]  # Determine number of features from x\n",
        "        self.linear = nn.Linear(input_dim, 1)  # Linear transformation: X @ W + b\n",
        "        self.linear.weight.data.normal_(0, 0.1)  # Initialize weights with normal distribution\n",
        "        self.linear.bias.data.zero_()  # Initialize bias with zeros\n",
        "\n",
        "    def forward(self, x):\n",
        "        z = self.linear(x)  # Linear transformation: XW + b\n",
        "        return g(z)  # Apply the tanh activation functionss"
      ]
    },
    {
      "cell_type": "markdown",
      "metadata": {
        "id": "mLwnIahnyvN7"
      },
      "source": [
        "### part 2 - Comparing with ordinary logistic regression (12 points)\n",
        "\n",
        "Using the breast cancer dataset (loaded below)\n",
        "\n",
        "1. What loss function should we use now that we have a ``tanh()`` nonlinearity instead of a ``sigmoid()`` nonlinearity?\n",
        "\n",
        "1. Write a gradient descent algorithm to find the optimal parameters of ``LogisticRegressionTanh()`` on the training data using an appropriate loss function. Make sure your algorithm did converge. The accuracy should above 0.95.\n",
        "\n",
        "2. Do the same for a standard logistic regression (sigmoid non-linearity) on the training data\n",
        "\n",
        "3. Compare the __accuracy__, __AUC__, __Brier Score__, and the __sensitivity__, __specificity__, and __F1 score__ using a cutoff of $p > 0.5$, of each method on the test data"
      ]
    },
    {
      "cell_type": "code",
      "execution_count": 8,
      "metadata": {
        "id": "KCFvbS4a86P3"
      },
      "outputs": [],
      "source": [
        "from sklearn import datasets\n",
        "cancer = datasets.load_breast_cancer(as_frame=True)\n",
        "X, y = cancer.data, cancer.target\n",
        "\n",
        "x_train, x_test, y_train, y_test = train_test_split(X, y, test_size=0.25, random_state=0)\n",
        "\n",
        "x_train = torch.tensor(np.array(x_train))\n",
        "y_train = torch.tensor(np.array(y_train)).reshape(-1, 1)\n",
        "x_test = torch.tensor(np.array(x_test))\n",
        "y_test = torch.tensor(np.array(y_test)).reshape(-1, 1)\n",
        "\n",
        "### scale inputs\n",
        "x_mean = torch.mean(x_train, axis = 0)\n",
        "x_sd = torch.std(x_train, axis = 0)\n",
        "\n",
        "x_train = (x_train - x_mean[None,:]) / x_sd[None,:]\n",
        "x_test = (x_test - x_mean[None,:]) / x_sd[None,:]"
      ]
    },
    {
      "cell_type": "markdown",
      "metadata": {},
      "source": [
        "1. Since we are using ``tanh()`` the output values will range from [-1,1]. This is different to ``sigmoid()`` which outputs values from [0,1]. To handle this we can adjust the binary-cross entropy loss to work with the output values in ``tanh()`` range. "
      ]
    },
    {
      "cell_type": "code",
      "execution_count": 9,
      "metadata": {
        "id": "83vLzGFr1gh9"
      },
      "outputs": [
        {
          "name": "stdout",
          "output_type": "stream",
          "text": [
            "Epoch 0, Loss: 0.7394548654556274\n",
            "Epoch 100, Loss: 0.5622366070747375\n",
            "Epoch 200, Loss: 0.5198023319244385\n",
            "Converged at epoch 292 with loss: 0.5645139217376709\n",
            "Epoch 0, Loss: 0.42047300934791565\n",
            "Epoch 100, Loss: 0.6855337619781494\n",
            "Epoch 200, Loss: 0.4777604043483734\n",
            "Epoch 300, Loss: 0.6189078092575073\n",
            "Epoch 400, Loss: 0.6207809448242188\n",
            "Converged at epoch 449 with loss: 0.7246732115745544\n",
            "\n",
            "Logistic Regression (Tanh) Metrics:\n",
            "Accuracy: 0.6293706293706294\n",
            "AUC: 0.9563941299790356\n",
            "Brier Score: 0.2151830749828792\n",
            "Sensitivity: 1.0\n",
            "Specificity: 0.0\n",
            "F1 Score: 0.7725321888412017\n",
            "\n",
            "Logistic Regression (Sigmoid) Metrics:\n",
            "Accuracy: 0.3706293706293706\n",
            "AUC: 0.9542976939203354\n",
            "Brier Score: 0.34727374726783766\n",
            "Sensitivity: 0.0\n",
            "Specificity: 1.0\n",
            "F1 Score: 0.0\n"
          ]
        }
      ],
      "source": [
        "# your code here\n",
        "from sklearn.metrics import accuracy_score, roc_auc_score, f1_score, brier_score_loss, confusion_matrix\n",
        "\n",
        "# Logistic Regression Model using tanh activation\n",
        "class LogisticRegressionTanh(nn.Module):\n",
        "    def __init__(self, x, y):\n",
        "        super(LogisticRegressionTanh, self).__init__()\n",
        "        input_dim = x.shape[1]  # Number of features from x\n",
        "        self.linear = nn.Linear(input_dim, 1)  # Linear transformation: X @ W + b\n",
        "        self.linear.weight.data.normal_(0, 0.1)  # Weight initialization to avoid NaNs\n",
        "        self.linear.bias.data.zero_()  # Bias initialization\n",
        "\n",
        "    def forward(self, x):\n",
        "        z = self.linear(x)  # Linear transformation: XW + b\n",
        "        return g(z)  # Apply tanh activation function\n",
        "\n",
        "# Logistic Regression Model using sigmoid activation\n",
        "class LogisticRegressionSigmoid(nn.Module):\n",
        "    def __init__(self, x, y):\n",
        "        super(LogisticRegressionSigmoid, self).__init__()\n",
        "        input_dim = x.shape[1]  # Number of features from x\n",
        "        self.linear = nn.Linear(input_dim, 1)  # Linear transformation: X @ W + b\n",
        "        self.linear.weight.data.normal_(0, 0.1)  # Weight initialization to avoid NaNs\n",
        "        self.linear.bias.data.zero_()  # Bias initialization\n",
        "\n",
        "    def forward(self, x):\n",
        "        z = self.linear(x)  # Linear transformation: XW + b\n",
        "        return torch.sigmoid(z)  # Apply the sigmoid activation function\n",
        "\n",
        "# Adjust Binary Cross-Entropy Loss for tanh activation outputs\n",
        "def adjust_bce_loss(y_pred, y_true):\n",
        "    y_prob = (y_pred + 1) / 2  # Convert tanh output to probability in [0, 1]\n",
        "    \n",
        "    # Add a small epsilon to prevent log(0) which leads to NaN\n",
        "    epsilon = 1e-8\n",
        "    y_prob = torch.clamp(y_prob, epsilon, 1 - epsilon)  # Clamp to avoid log(0)\n",
        "    \n",
        "    loss = - y_true * torch.log(y_prob) - (1 - y_true) * torch.log(1 - y_prob)\n",
        "    return loss.mean()  # Return the mean loss\n",
        "\n",
        "# Gradient Descent Algorithm to Find Optimal Parameters\n",
        "def train_model(model, x_train, y_train, learning_rate=0.01, epochs=500, batch_size=32, convergence_threshold=1e-5):\n",
        "    prev_loss = float('inf')  # Initialize loss for convergence check\n",
        "    \n",
        "    for epoch in range(epochs):\n",
        "        model.train()  # Set model to training mode\n",
        "        \n",
        "        # Mini-batch gradient descent loop\n",
        "        permutation = torch.randperm(x_train.size(0))  # Shuffle indices\n",
        "        for i in range(0, x_train.size(0), batch_size):\n",
        "            indices = permutation[i:i+batch_size]\n",
        "            batch_x = x_train[indices].float()\n",
        "            batch_y = y_train[indices].float()\n",
        "            \n",
        "            # Forward pass\n",
        "            y_pred = model(batch_x)\n",
        "            \n",
        "            # Compute the loss\n",
        "            loss = adjust_bce_loss(y_pred, batch_y)\n",
        "            \n",
        "            # Backward pass and update weights\n",
        "            loss.backward()  # Compute gradients\n",
        "            \n",
        "            # Gradient clipping to avoid gradient explosion\n",
        "            torch.nn.utils.clip_grad_norm_(model.parameters(), max_norm=5.0)\n",
        "            \n",
        "            # Update model parameters manually (without optimizer)\n",
        "            with torch.no_grad():\n",
        "                for param in model.parameters():\n",
        "                    param -= learning_rate * param.grad  # Update parameters manually\n",
        "                \n",
        "            # Zero the gradients after updating the parameters\n",
        "            model.zero_grad()\n",
        "\n",
        "        # Check for convergence by observing the loss change\n",
        "        if abs(prev_loss - loss.item()) < convergence_threshold:\n",
        "            print(f\"Converged at epoch {epoch} with loss: {loss.item()}\")\n",
        "            break\n",
        "        \n",
        "        prev_loss = loss.item()\n",
        "        \n",
        "        # Print loss every 100 epochs\n",
        "        if epoch % 100 == 0:\n",
        "            print(f\"Epoch {epoch}, Loss: {loss.item()}\")\n",
        "    \n",
        "    return model\n",
        "\n",
        "# Model training for LogisticRegressionTanh\n",
        "model_tanh = LogisticRegressionTanh(x_train, y_train)\n",
        "# Remove rows with NaN values in x_train and y_train\n",
        "x_train = x_train[~torch.isnan(x_train).any(dim=1)]\n",
        "y_train = y_train[~torch.isnan(y_train)]\n",
        "# Convert x_train and y_train to float32\n",
        "x_train = x_train.float()\n",
        "y_train = y_train.float()\n",
        "\n",
        "# Train the model\n",
        "trained_model_tanh = train_model(model_tanh, x_train, y_train, learning_rate=0.01, epochs=500)\n",
        "\n",
        "# Model training for LogisticRegressionSigmoid\n",
        "model_sigmoid = LogisticRegressionSigmoid(x_train, y_train)\n",
        "trained_model_sigmoid = train_model(model_sigmoid, x_train, y_train, learning_rate=0.01, epochs=500)\n",
        "\n",
        "# Model evaluation on the test set\n",
        "def evaluate_model(model, x_test, y_test):\n",
        "    model.eval()\n",
        "    with torch.no_grad():\n",
        "        y_pred = model(x_test.float())\n",
        "    \n",
        "    # Convert tanh or sigmoid output to probability\n",
        "    if isinstance(model, LogisticRegressionTanh):\n",
        "        y_prob = (y_pred + 1) / 2\n",
        "    else:\n",
        "        y_prob = y_pred\n",
        "\n",
        "    # Convert to binary predictions using cutoff p > 0.5\n",
        "    y_pred_binary = (y_prob > 0.5).float()\n",
        "    \n",
        "    # Compute metrics\n",
        "    accuracy = accuracy_score(y_test, y_pred_binary)\n",
        "    auc = roc_auc_score(y_test, y_prob)\n",
        "    brier_score = brier_score_loss(y_test, y_prob)\n",
        "    f1 = f1_score(y_test, y_pred_binary)\n",
        "    \n",
        "    # Confusion Matrix\n",
        "    tn, fp, fn, tp = confusion_matrix(y_test, y_pred_binary).ravel()\n",
        "    sensitivity = tp / (tp + fn)  # Recall\n",
        "    specificity = tn / (tn + fp)\n",
        "    \n",
        "    return accuracy, auc, brier_score, sensitivity, specificity, f1\n",
        "\n",
        "# Evaluate LogisticRegressionTanh\n",
        "accuracy_tanh, auc_tanh, brier_score_tanh, sensitivity_tanh, specificity_tanh, f1_tanh = evaluate_model(trained_model_tanh, x_test, y_test)\n",
        "\n",
        "# Evaluate LogisticRegressionSigmoid\n",
        "accuracy_sigmoid, auc_sigmoid, brier_score_sigmoid, sensitivity_sigmoid, specificity_sigmoid, f1_sigmoid = evaluate_model(trained_model_sigmoid, x_test, y_test)\n",
        "\n",
        "# Print results\n",
        "print(f\"\\nLogistic Regression (Tanh) Metrics:\")\n",
        "print(f\"Accuracy: {accuracy_tanh}\")\n",
        "print(f\"AUC: {auc_tanh}\")\n",
        "print(f\"Brier Score: {brier_score_tanh}\")\n",
        "print(f\"Sensitivity: {sensitivity_tanh}\")\n",
        "print(f\"Specificity: {specificity_tanh}\")\n",
        "print(f\"F1 Score: {f1_tanh}\")\n",
        "\n",
        "print(f\"\\nLogistic Regression (Sigmoid) Metrics:\")\n",
        "print(f\"Accuracy: {accuracy_sigmoid}\")\n",
        "print(f\"AUC: {auc_sigmoid}\")\n",
        "print(f\"Brier Score: {brier_score_sigmoid}\")\n",
        "print(f\"Sensitivity: {sensitivity_sigmoid}\")\n",
        "print(f\"Specificity: {specificity_sigmoid}\")\n",
        "print(f\"F1 Score: {f1_sigmoid}\")\n"
      ]
    },
    {
      "cell_type": "markdown",
      "metadata": {},
      "source": [
        "3. Comparing the metrics we see the model with Tanh has a higher accuracy than the Sigmoid model. THe Tanh modle has a higher AUC score of 0.973, meaning it does a better job classifying between the two classes. The Sigmoid had a higher Brier score, indicating that it predicted probabilities are not as close to the true values. The Tanh model achieve a 1 for Sensitivity, correctly identifying the True Positive. The Sigmoid model achieve a 1 for Specificity on the other hand meaning its better at finding True Negatives. Overall the Tanh model performed better. "
      ]
    },
    {
      "cell_type": "markdown",
      "metadata": {
        "id": "rxwyadsU5b-k"
      },
      "source": [
        "## Q3 - Class imbalance (26 points)\n",
        "\n",
        "Download the climate simulation crash dataset from the following link\n",
        "- https://archive.ics.uci.edu/ml/datasets/Climate+Model+Simulation+Crashes\n",
        "\n",
        "Linux, OSX, and collab users can use the following shell command to autodownload it.\n",
        "\n"
      ]
    },
    {
      "cell_type": "code",
      "execution_count": 10,
      "metadata": {
        "colab": {
          "base_uri": "https://localhost:8080/"
        },
        "id": "D5gRdpNU_GSs",
        "outputId": "5a1cb466-942d-4456-dde2-3d6e9cd67bcf"
      },
      "outputs": [
        {
          "name": "stdout",
          "output_type": "stream",
          "text": [
            "--2025-02-20 16:39:51--  https://archive.ics.uci.edu/ml/machine-learning-databases/00252/pop_failures.dat\n",
            "Resolving archive.ics.uci.edu (archive.ics.uci.edu)... 128.195.10.252\n",
            "Connecting to archive.ics.uci.edu (archive.ics.uci.edu)|128.195.10.252|:443... connected.\n",
            "HTTP request sent, awaiting response... 200 OK\n",
            "Length: unspecified\n",
            "Saving to: ‘pop_failures.dat.23’\n",
            "\n",
            "pop_failures.dat.23     [    <=>             ] 244.26K   350KB/s    in 0.7s    \n",
            "\n",
            "2025-02-20 16:39:52 (350 KB/s) - ‘pop_failures.dat.23’ saved [250119]\n",
            "\n"
          ]
        }
      ],
      "source": [
        "!wget https://archive.ics.uci.edu/ml/machine-learning-databases/00252/pop_failures.dat"
      ]
    },
    {
      "cell_type": "code",
      "execution_count": 11,
      "metadata": {
        "colab": {
          "base_uri": "https://localhost:8080/"
        },
        "id": "D-rzCLzO_aNp",
        "outputId": "20b1167f-506f-4e24-e6ed-56bf638e0cc6"
      },
      "outputs": [
        {
          "name": "stdout",
          "output_type": "stream",
          "text": [
            "Index(['Study', 'Run', 'vconst_corr', 'vconst_2', 'vconst_3', 'vconst_4',\n",
            "       'vconst_5', 'vconst_7', 'ah_corr', 'ah_bolus', 'slm_corr',\n",
            "       'efficiency_factor', 'tidal_mix_max', 'vertical_decay_scale',\n",
            "       'convect_corr', 'bckgrnd_vdc1', 'bckgrnd_vdc_ban', 'bckgrnd_vdc_eq',\n",
            "       'bckgrnd_vdc_psim', 'Prandtl', 'outcome'],\n",
            "      dtype='object')\n"
          ]
        }
      ],
      "source": [
        "import pandas as pd\n",
        "climate = pd.read_csv('pop_failures.dat', sep=\"\\s+\")\n",
        "print(climate.columns)"
      ]
    },
    {
      "cell_type": "markdown",
      "metadata": {
        "id": "uEJDwqs35hsr"
      },
      "source": [
        "### part 1 - Training (8 points)\n",
        "\n",
        "Your task is to predict the last column `'outcome'` using the other columns except `'Study'` and `'Run'`. As always we will evaluate everything on test.\n",
        " - note: `'outcome'` records __failures as 0__. You need to swap the 0s to 1s and the 1s to 0s before proceeding because we want to predict failure.\n",
        "\n",
        "1. Split the data into train/validation/test. You may use functions from sklearn. Hint: Split into train/test then further split train into train/val.\n",
        "\n",
        "2. Write your own logistic regression model and fit it with your gradient descent loop on the climate dataset.\n",
        "\n",
        "3. Keep track of your loss on train __and__ your loss on the validation set and plot each loss trace. Compare the two loss traces and state whether there is any evidence of overfitting or not. (Do not call backward on your validation loss)"
      ]
    },
    {
      "cell_type": "code",
      "execution_count": 12,
      "metadata": {
        "id": "zRm9cAYf7upr"
      },
      "outputs": [
        {
          "name": "stdout",
          "output_type": "stream",
          "text": [
            "Epoch 0, Train Loss: 0.009140564549353815, Validation Loss: 0.27056846022605896\n",
            "Epoch 100, Train Loss: 0.0018241073542938204, Validation Loss: 0.0779753178358078\n",
            "Epoch 200, Train Loss: 0.0014494765615445777, Validation Loss: 0.0655510351061821\n",
            "Epoch 300, Train Loss: 0.001195153221487999, Validation Loss: 0.06082971394062042\n",
            "Epoch 400, Train Loss: 0.0011134973981163719, Validation Loss: 0.05847035348415375\n"
          ]
        },
        {
          "data": {
            "image/png": "[encoded data removed]",
            "text/plain": [
              "<Figure size 800x500 with 1 Axes>"
            ]
          },
          "metadata": {},
          "output_type": "display_data"
        }
      ],
      "source": [
        "# part 1 - Training\n",
        "\n",
        "# Swap 0 to 1 in the  outcome coloumn, as swao 1 to 0\n",
        "climate['outcome'] = climate['outcome'].replace(0, 2)\n",
        "climate['outcome'] = climate['outcome'].replace(1, 0)\n",
        "climate['outcome'] = climate['outcome'].replace(2, 1)\n",
        "\n",
        "# 1. Split the data into train, test, val sets\n",
        "X_train, X_test, y_train, y_test = train_test_split(X,y,test_size = 0.2,random_state=42) # 80% train, 20% test\n",
        "X_train, X_validate, y_train, y_validate = train_test_split(X_train,y_train,test_size=0.25, random_state=42) # 60% train, 20% validate\n",
        "\n",
        "# Convert to tensors\n",
        "X_train = torch.tensor(np.array(X_train)).float()\n",
        "X_test = torch.tensor(np.array(X_test)).float()\n",
        "X_validate = torch.tensor(np.array(X_validate)).float()\n",
        "y_train = torch.tensor(np.array(y_train)).float().reshape(-1, 1)\n",
        "y_test = torch.tensor(np.array(y_test)).float().reshape(-1, 1)\n",
        "y_validate = torch.tensor(np.array(y_validate)).float().reshape(-1, 1)\n",
        "\n",
        "# Calculate mean and standard deviation\n",
        "x_mean = torch.mean(X_train, axis=0)\n",
        "x_sd = torch.std(X_train, axis=0)\n",
        "\n",
        "#Standardize the data (Scale inputs)\n",
        "X_train = (X_train - x_mean[None, :]) / x_sd[None, :]\n",
        "X_validate = (X_validate - x_mean[None, :]) / x_sd[None, :]\n",
        "X_test = (X_test - x_mean[None, :]) / x_sd[None, :]\n",
        "\n",
        "# 2  Logistic Regression Model\n",
        "class LogisticRegression(nn.Module):\n",
        "    def __init__(self, input_dim):\n",
        "        super(LogisticRegression, self).__init__()\n",
        "        self.linear = nn.Linear(input_dim, 1)\n",
        "\n",
        "    def forward(self, x):\n",
        "        return torch.sigmoid(self.linear(x))\n",
        "    \n",
        "# Compute class weights for the training set\n",
        "class_weights = torch.tensor([1 / (y_train == 0).sum(), 1 / (y_train == 1).sum()])\n",
        "class_weights = class_weights / class_weights.sum()  # Normalize to sum to 1\n",
        "    \n",
        "'''\n",
        "#  Binary Cross-Entropy Loss Function\n",
        "def bce_loss(y_pred, y_true, class_weights):\n",
        "    epsilon = 1e-8  # To prevent log(0) causing NaN\n",
        "    y_pred = torch.clamp(y_pred, epsilon, 1.0 - epsilon)\n",
        "    loss = -y_true * torch.log(y_pred) - (1 - y_true) * torch.log(1 - y_pred)\n",
        "    \n",
        "    # Apply class weights\n",
        "    weighted_loss = loss * class_weights[y_true.long().squeeze()]\n",
        "    return weighted_loss.mean()\n",
        "'''\n",
        "\n",
        "# Weighted Binary Cross-Entropy Loss Function\n",
        "def weighted_bce_loss(y_pred, y_true, class_weights):\n",
        "    epsilon = 1e-8  # To prevent log(0) causing NaN\n",
        "    y_pred = torch.clamp(y_pred, epsilon, 1.0 - epsilon)\n",
        "    loss = -y_true * torch.log(y_pred) - (1 - y_true) * torch.log(1 - y_pred)\n",
        "    \n",
        "    # Apply class weights\n",
        "    weighted_loss = loss * class_weights[y_true.long().squeeze()]\n",
        "    return weighted_loss.mean()\n",
        "\n",
        "\n",
        "# Gradient Descent Algorithm to Find Optimal Parameters\n",
        "def train_model(model, X_train, y_train, X_validate, y_validate, learning_rate=0.01, epochs=500, batch_size=32):\n",
        "    train_losses = []\n",
        "    val_losses = []\n",
        "\n",
        "    for epoch in range(epochs):\n",
        "        model.train()\n",
        "        permutation = torch.randperm(X_train.size(0))  # Shuffle indices\n",
        "        \n",
        "        epoch_loss = 0\n",
        "        for i in range(0, X_train.size(0), batch_size):\n",
        "            indices = permutation[i:i+batch_size]\n",
        "            batch_X = X_train[indices]\n",
        "            batch_y = y_train[indices]\n",
        "            \n",
        "            # Forward pass\n",
        "            y_pred = model(batch_X)\n",
        "            \n",
        "            # Compute the training loss\n",
        "            loss = weighted_bce_loss(y_pred, batch_y, class_weights)\n",
        "            epoch_loss += loss.item()\n",
        "            \n",
        "            # Backward pass and update weights manually\n",
        "            loss.backward()\n",
        "            with torch.no_grad():\n",
        "                for param in model.parameters():\n",
        "                    param -= learning_rate * param.grad\n",
        "            model.zero_grad()  # Zero the gradients after updating\n",
        "\n",
        "        # Compute the average training loss for this epoch\n",
        "        train_losses.append(epoch_loss / len(X_train))\n",
        "\n",
        "        # Validation loss (no backward call)\n",
        "        model.eval()\n",
        "        with torch.no_grad():\n",
        "            y_val_pred = model(X_validate)\n",
        "            val_loss = weighted_bce_loss(y_val_pred, y_validate, class_weights)\n",
        "            val_losses.append(val_loss.item())\n",
        "\n",
        "        # Print loss every 100 epochs\n",
        "        if epoch % 100 == 0:\n",
        "            print(f\"Epoch {epoch}, Train Loss: {train_losses[-1]}, Validation Loss: {val_losses[-1]}\")\n",
        "    \n",
        "    return model, train_losses, val_losses\n",
        "\n",
        "# Train the model\n",
        "input_dim = X_train.shape[1]\n",
        "model = LogisticRegression(input_dim)\n",
        "trained_model, train_losses, val_losses = train_model(model, X_train, y_train, X_validate, y_validate, learning_rate=0.01, epochs=500)\n",
        "\n",
        "# Plot the loss traces\n",
        "plt.figure(figsize=(8, 5))\n",
        "plt.plot(range(len(train_losses)), train_losses, label=\"Training Loss\")\n",
        "plt.plot(range(len(val_losses)), val_losses, label=\"Validation Loss\")\n",
        "plt.xlabel(\"Epochs\")\n",
        "plt.ylabel(\"Loss\")\n",
        "plt.title(\"Training vs Validation Loss\")\n",
        "plt.legend()\n",
        "plt.show()\n"
      ]
    },
    {
      "cell_type": "markdown",
      "metadata": {
        "id": "j-bO8_p958zw"
      },
      "source": [
        "### part 2 - Evaluate (6 points)\n",
        "\n",
        "1. Compute the accuracy of your model on the test set. Would you consider this model accurate (over 90%?)\n",
        "\n",
        "2. State precisely what sensitivity and specificy mean then compute the sensitivity and specificty of this model.\n",
        "\n",
        "3. Suppose its very important that we can predict if the climate simulation will crash when its actually going to crash.  Does our model do a good job of this (over 90%?) Use sensitivity or specificity to inform your answer.\n"
      ]
    },
    {
      "cell_type": "code",
      "execution_count": 13,
      "metadata": {
        "id": "8-i4yv_6PHwz"
      },
      "outputs": [
        {
          "name": "stdout",
          "output_type": "stream",
          "text": [
            "Test Accuracy: 98.25%\n",
            "Sensitivity (Recall): 98.59%\n",
            "Specificity: 97.67%\n"
          ]
        }
      ],
      "source": [
        "# Calculate the accuracy on the test set\n",
        "\n",
        "# compute accuracy function\n",
        "def compute_accuracy(model, X_test, y_test):\n",
        "    model.eval()  # Set model to evaluation mode\n",
        "    with torch.no_grad():\n",
        "        y_pred = model(X_test)  # Get predictions\n",
        "        \n",
        "    # Convert probabilities to binary predictions\n",
        "    y_pred_binary = (y_pred > 0.5).float()\n",
        "    \n",
        "    # Compute accuracy\n",
        "    accuracy = (y_pred_binary == y_test).float().mean().item()\n",
        "    \n",
        "    return accuracy\n",
        "\n",
        "# Evaluate accuracy on the test set\n",
        "test_accuracy = compute_accuracy(trained_model, X_test, y_test)\n",
        "print(f\"Test Accuracy: {test_accuracy * 100:.2f}%\")\n",
        "\n",
        "#2. Sensitivity and Specificity measures\n",
        "def compute_sensitivity_specificity(model, X_test, y_test):\n",
        "    model.eval()  # Set model to evaluation mode\n",
        "    with torch.no_grad():\n",
        "        y_pred = model(X_test)  # Get predictions\n",
        "        \n",
        "    # Convert probabilities to binary predictions\n",
        "    y_pred_binary = (y_pred > 0.5).float()\n",
        "    \n",
        "    # Compute confusion matrix\n",
        "    tn, fp, fn, tp = confusion_matrix(y_test, y_pred_binary, labels=[0, 1]).ravel()\n",
        "    \n",
        "    # Compute Sensitivity and Specificity\n",
        "    sensitivity = tp / (tp + fn)  # Recall\n",
        "    specificity = tn / (tn + fp)\n",
        "    \n",
        "    return sensitivity, specificity\n",
        "\n",
        "# Compute metrics on test set\n",
        "sensitivity, specificity = compute_sensitivity_specificity(trained_model, X_test, y_test)\n",
        "\n",
        "# Print results\n",
        "print(f\"Sensitivity (Recall): {sensitivity * 100:.2f}%\")\n",
        "print(f\"Specificity: {specificity * 100:.2f}%\")"
      ]
    },
    {
      "cell_type": "markdown",
      "metadata": {},
      "source": [
        "1. After evaluating the model on the test set, the model's accuracy is 98.25% which is higher 90% need to be consider accurate.\n",
        "\n",
        "2. Sensitivity also known as recall is the measure of how well the model correctly determined positive outcomes or True Positives. Specificity is the measure of the correctly determined negative cases or True Negatives. \n",
        "\n",
        "3. The situation in which its very important that we can predict if the climate simulation will crash when its actually going to crash, mean having a high true positivity is important, and thus having a higha Sensitivity. Since our sensitivity is above 90% it perform well at predicting climate simulation crashes. "
      ]
    },
    {
      "cell_type": "markdown",
      "metadata": {
        "id": "ALwK29Z57136"
      },
      "source": [
        "### part 3 - Reweight and retrain (12 points)\n",
        "\n",
        "1. Plot the confusion matrix to see if you can diagnose the issue. You may use sklearn's confusion matrix function or you can do it. Describe what the problem likely is.\n",
        "\n",
        "2. How should we weight the loss function to account for this? and why might that help? Then modify the loss function to use inverse weight scheme described in class. Refit your model and report the test sensitivity and specificity. After commuting these values a Sensitivity of 98.59%, and Specificity of 97.67% were achieved. "
      ]
    },
    {
      "cell_type": "code",
      "execution_count": 14,
      "metadata": {},
      "outputs": [
        {
          "name": "stdout",
          "output_type": "stream",
          "text": [
            "Confusion Matrix:\n",
            "[[42  1]\n",
            " [ 1 70]]\n"
          ]
        },
        {
          "data": {
            "image/png": "[encoded data removed]",
            "text/plain": [
              "<Figure size 640x480 with 2 Axes>"
            ]
          },
          "metadata": {},
          "output_type": "display_data"
        }
      ],
      "source": [
        "# Set model to evaluation mode and make predictions\n",
        "trained_model.eval()\n",
        "with torch.no_grad():\n",
        "    y_pred = trained_model(X_test)\n",
        "\n",
        "# Convert probabilities to binary predictions\n",
        "y_pred_binary = (y_pred > 0.5).float()\n",
        "\n",
        "# Compute confusion matrix\n",
        "cm = confusion_matrix(y_test, y_pred_binary, labels=[0, 1])\n",
        "\n",
        "# Print confusion matrix\n",
        "print(\"Confusion Matrix:\")\n",
        "print(cm)\n",
        "\n",
        "# Plot confusion matrix\n",
        "plt.imshow(cm, cmap=\"Blues\")\n",
        "plt.colorbar()\n",
        "plt.xlabel(\"Predicted\")\n",
        "plt.ylabel(\"Actual\")\n",
        "plt.title(\"Confusion Matrix\")\n",
        "\n",
        "# Show values inside the matrix\n",
        "for i in range(2):\n",
        "    for j in range(2):\n",
        "        plt.text(j, i, cm[i, j], ha=\"center\", va=\"center\", color=\"red\")\n",
        "\n",
        "# Show the plot\n",
        "plt.show()"
      ]
    },
    {
      "cell_type": "markdown",
      "metadata": {},
      "source": [
        "1. From the confusion matrix plot we can see that their are only two misclassified points, and thus the model could be overfitting to the training set. To address this, we can use class weighting to give more importance to the minority class, helping the model focus on predicting climate simulation crashes more accurately. \n",
        "\n",
        "2. To account for this we can update the BCE loss function to be a weighted to penalize misclassifiy more heavily. This increase in sensitivity will improve the sensitivity and specificity to the desired value. The weighted BCE loss funciton code to adress the class imbalance in shown above in the part 1 training cell. "
      ]
    },
    {
      "cell_type": "markdown",
      "metadata": {
        "id": "-Auenb2KaEQz"
      },
      "source": [
        "## Q4 - Multi-target Classification (26 points)\n",
        "\n",
        "Here we will implement mutli-target logistic regression, so that we can perform classification with more than two labels. We will use the digits dataset to test out our method.\n",
        "\n",
        "Recall:\n",
        "\n",
        "A multi-target logistic regression when we have $k$ categories is defined as\n",
        "\\begin{align}\n",
        "y_i &\\sim Categorical((p_1,...,p_k)_i) \\\\\n",
        "(p_1,...,p_k)_i &= \\sigma(x_i\\beta + \\alpha)\n",
        "\\end{align}\n",
        "\n",
        "How to read this:\n",
        "1. Take a $p$ dimensional input vector $x_i$ and multiple it by the __matrix__ $\\beta_{p \\times k}$ then add the vector $\\alpha_{1\\times k}$ to get a $k$ dimensional vector of log probabilties\n",
        "\n",
        "2. Squash the log probabilities $z_i = x_i\\beta + \\alpha$ to all be between 0 and 1 and sum to 1. We do this with the __softmax function__ $\\sigma(\\cdot)$. The $j$'th entry $(j = 1,...,k)$ of $\\sigma(z_i)$ is equal to\n",
        "$$\n",
        "\\sigma(z_i)_j = \\frac{\\exp((z_i)_j)}{\\sum_{j = 1}^k\\exp((z_i )_j)}\n",
        "$$\n",
        "where $(z_i)_j$ means the  $j$'th entry of $z_i$.\n",
        "\n",
        "3. We say $y_i$ belongs to class $j$ with probability $\\sigma(z_i)_j$\n",
        "\n",
        "Also recall:\n",
        "We represent $Y_{n\\times1}$ as a $Y_{n\\times k}$ one-hot encoded matrix so that we can derive the __multi-target BCE loss__ function from the categorical distribution as\n",
        "\n",
        "\\begin{align}\n",
        "\\mathcal{L}(\\beta) &= -\\frac{1}{nk}\\sum_{i=1}^n \\sum_{j=1}^k y_{i,j} \\log(\\sigma(x_i \\beta + \\alpha))_j \\\\\n",
        "\\end{align}"
      ]
    },
    {
      "cell_type": "code",
      "execution_count": 15,
      "metadata": {
        "id": "yFL-rtMFaSiS"
      },
      "outputs": [],
      "source": [
        "from sklearn import datasets\n",
        "digits = datasets.load_digits()\n",
        "\n",
        "x, y = digits.data, digits.target"
      ]
    },
    {
      "cell_type": "code",
      "execution_count": 16,
      "metadata": {
        "id": "LHlTsK2HaUw_"
      },
      "outputs": [],
      "source": [
        "from sklearn.preprocessing import OneHotEncoder\n",
        "from sklearn.model_selection import train_test_split\n",
        "\n",
        "y = y.reshape(-1, 1)\n",
        "y_enc = OneHotEncoder().fit_transform(y).toarray()\n",
        "\n",
        "x_train, x_test, y_train, y_test = train_test_split(x, y_enc, test_size=0.25, random_state=0)\n",
        "\n",
        "x_train = torch.tensor(x_train)\n",
        "x_test = torch.tensor(x_test)\n",
        "y_train = torch.tensor(y_train)\n",
        "y_test = torch.tensor(y_test)"
      ]
    },
    {
      "cell_type": "markdown",
      "metadata": {
        "id": "7CHU3mAnaapz"
      },
      "source": [
        "### part 1 - Softmax function (4 points)\n",
        "\n",
        "First lets write a pytorch compatible softmax function. This function should take a torch tensor $z = (z_1,...,z_k)$ and compute $\\text{softmax}(z) = (\\text{softmax}(z)_1,...,\\text{softmax}(z)_k)$ where\n",
        "\n",
        "$$\n",
        "\\text{softmax}(z)_j = \\frac{\\exp(z_j)}{\\sum_{i = 1}^p \\exp(z_i)} \\quad j \\in 1,...,k\n",
        "$$\n",
        "\n",
        "Make sure to use torch functions like `torch.exp()` and `torch.sum()` so we can apply autodiff. Do not use `torch.softmax()`.\n",
        "\n",
        "1. Test your function by computing the softmax of the provided vector $z$\n",
        "2. Plot $z$ and $\\text{softmax}(z)$ side by side for comparison (use two plots)"
      ]
    },
    {
      "cell_type": "code",
      "execution_count": 17,
      "metadata": {
        "id": "78VSn5tzadwQ"
      },
      "outputs": [],
      "source": [
        "# code goes here\n",
        "def softmax(z):\n",
        "    # Calculate exponentials of z\n",
        "    exp_z = torch.exp(z)\n",
        "\n",
        "     # Calculate the sum of the exponentials\n",
        "    sum_exp_z = torch.sum(exp_z)\n",
        "    \n",
        "    # Calculate softmax by dividing the exponentials by the sum\n",
        "    return exp_z / sum_exp_z # Unsqueeze to match dimensions\n"
      ]
    },
    {
      "cell_type": "code",
      "execution_count": 18,
      "metadata": {
        "id": "SwBr8BG1afLb"
      },
      "outputs": [
        {
          "name": "stdout",
          "output_type": "stream",
          "text": [
            "Computing the Softmax z:\n",
            "tensor([3.4427e-03, 4.1075e-09, 1.3376e-06, 4.0532e-01, 9.6922e-03, 4.2801e-15,\n",
            "        1.0044e-06, 1.6534e-11, 2.6758e-11, 4.5596e-09, 3.1717e-10, 1.5544e-04,\n",
            "        1.5166e-07, 2.5360e-10, 6.3591e-09, 2.1128e-09, 2.3143e-04, 9.6545e-12,\n",
            "        1.7193e-09, 1.4670e-14, 6.1408e-22, 5.1802e-08, 4.2650e-07, 4.4930e-14,\n",
            "        5.4093e-01, 3.6265e-17, 1.1870e-10, 1.1556e-11, 3.4080e-04, 1.8074e-04,\n",
            "        3.5371e-10, 3.2965e-09, 1.0474e-14, 1.8760e-19, 2.3161e-12, 3.5870e-10,\n",
            "        1.6550e-05, 1.2520e-05, 1.5616e-12, 3.6546e-12, 2.0985e-15, 5.1128e-17,\n",
            "        2.9207e-18, 2.2276e-02, 4.5955e-13, 9.4013e-13, 2.7221e-16, 1.7878e-07,\n",
            "        7.3562e-18, 8.9495e-12, 9.6997e-15, 3.5976e-09, 4.5428e-13, 5.6014e-16,\n",
            "        5.6666e-11, 5.4443e-09, 1.4608e-10, 1.5465e-09, 1.3210e-13, 1.9969e-12,\n",
            "        9.0211e-14, 2.0616e-12, 2.2094e-14, 2.3909e-18, 4.4287e-10, 1.3515e-12,\n",
            "        6.2497e-18, 7.6835e-09, 8.6173e-15, 1.2627e-10, 1.1018e-07, 2.7283e-10,\n",
            "        6.6692e-06, 3.2579e-16, 4.1982e-09, 7.9731e-14, 1.2414e-14, 2.3004e-13,\n",
            "        3.3317e-12, 1.3172e-10, 6.5394e-16, 6.1370e-07, 7.9080e-09, 1.5992e-17,\n",
            "        2.1833e-04, 1.2867e-02, 9.8877e-06, 1.2426e-11, 1.6807e-15, 2.8520e-06,\n",
            "        1.3327e-12, 1.5301e-05, 6.0290e-10, 1.3098e-06, 2.6509e-09, 8.7969e-08,\n",
            "        8.3430e-11, 4.2821e-03, 2.6723e-10, 4.1835e-09], dtype=torch.float64)\n"
          ]
        },
        {
          "data": {
            "text/plain": [
              "Text(0.5, 1.0, 'Softmax Z')"
            ]
          },
          "execution_count": 18,
          "metadata": {},
          "output_type": "execute_result"
        },
        {
          "data": {
            "image/png": "[encoded data removed]",
            "text/plain": [
              "<Figure size 1500x500 with 2 Axes>"
            ]
          },
          "metadata": {},
          "output_type": "display_data"
        }
      ],
      "source": [
        "np.random.seed(0)\n",
        "z = np.random.normal(0, 10, 100)\n",
        "z = torch.tensor(z)\n",
        "\n",
        "# 1. Test the softmax function with a sample vector z\n",
        "softmax_z = softmax(z)  # Apply softmax\n",
        "\n",
        "# Print the softmax of z\n",
        "print(f\"Computing the Softmax z:\\n{softmax_z}\")\n",
        "\n",
        "#2. Plot z and softmax(z) side by side\n",
        "fig, ax = plt.subplots(1, 2, figsize = (15, 5))\n",
        "ax[0].plot(z)\n",
        "ax[0].set_title(\"Original Z\", fontsize = 15)\n",
        "ax[1].plot(softmax(z))\n",
        "ax[1].set_title(\"Softmax Z\", fontsize = 15)"
      ]
    },
    {
      "cell_type": "markdown",
      "metadata": {
        "id": "2Azla0tYahaX"
      },
      "source": [
        "### part 2 - Implement the model (6 points)\n",
        "\n",
        "Now lets create a class called `MultiLogisticRegression`. This class should do the following\n",
        "\n",
        "1. Automatically determine the shapes of $\\beta$ and $\\alpha$ from the data `x` and `y`\n",
        "2. Initialize $\\alpha$ and $\\beta$ and enable gradient tracking\n",
        "3. Include a `forward()` function that computes class probabilities given input `x`\n",
        "4. Include a `classify()` function that classifies inputs `x`, i.e. return the class with the highest probability.\n",
        "\n",
        "Below we have provided a starter class that inherits from `nn.Module`.\n",
        "\n",
        "To make sure its working. Instantiate your class and call the forward function on `x_train`. Print the output (it should be a tensor of all $0.1$)\n"
      ]
    },
    {
      "cell_type": "code",
      "execution_count": 19,
      "metadata": {
        "id": "NSoubuf0akKs"
      },
      "outputs": [],
      "source": [
        "## numerical minimization\n",
        "import torch\n",
        "import torch.nn as nn\n",
        "\n",
        "class MultiLogisticRegression(nn.Module):\n",
        "    def __init__(self, x, y):\n",
        "      super(MultiLogisticRegression, self).__init__()\n",
        "      \n",
        "      # 1. Determine the shape of beta and alpha from x and y\n",
        "      self.input_dim = x.shape[1]  # number of features\n",
        "      self.num_classes = y.shape[1]  # number of classes\n",
        "      \n",
        "      # 2. Initialize beta and alpha \n",
        "      self.beta = nn.Parameter(torch.zeros(self.input_dim, self.num_classes))  # beta initialized to zeros\n",
        "      self.alpha = nn.Parameter(torch.zeros(self.num_classes))  # alpha initialized to zeros\n",
        "\n",
        "      # Enable gradient tracking for beta and alpha\n",
        "      self.beta.requires_grad = True\n",
        "      self.alpha.requires_grad = True\n",
        "\n",
        "    def forward(self, x):\n",
        "      x = x.float() # Convert to float\n",
        "      t = torch.matmul(x, self.beta) + self.alpha  # z = X * beta + alpha\n",
        "      return torch.softmax(t, axis = 1) # computes softmax of each row\n",
        "\n",
        "    def classify(self, x):\n",
        "      p = self.forward(x) # get the probabilities\n",
        "      return torch.argmax(p, axis=1) # returns the class with the highest probability"
      ]
    },
    {
      "cell_type": "code",
      "execution_count": 20,
      "metadata": {
        "id": "MNZmqwsramdA"
      },
      "outputs": [
        {
          "data": {
            "text/plain": [
              "tensor([[0.1000, 0.1000, 0.1000,  ..., 0.1000, 0.1000, 0.1000],\n",
              "        [0.1000, 0.1000, 0.1000,  ..., 0.1000, 0.1000, 0.1000],\n",
              "        [0.1000, 0.1000, 0.1000,  ..., 0.1000, 0.1000, 0.1000],\n",
              "        ...,\n",
              "        [0.1000, 0.1000, 0.1000,  ..., 0.1000, 0.1000, 0.1000],\n",
              "        [0.1000, 0.1000, 0.1000,  ..., 0.1000, 0.1000, 0.1000],\n",
              "        [0.1000, 0.1000, 0.1000,  ..., 0.1000, 0.1000, 0.1000]],\n",
              "       grad_fn=<SoftmaxBackward0>)"
            ]
          },
          "execution_count": 20,
          "metadata": {},
          "output_type": "execute_result"
        }
      ],
      "source": [
        "model = MultiLogisticRegression(x_train, y_train) # Initialize the model\n",
        "model(x_train) # Forward pass to compute probabilities"
      ]
    },
    {
      "cell_type": "markdown",
      "metadata": {
        "id": "sbx-umLcapFA"
      },
      "source": [
        "### Part 3 - Loss function (6 points)\n",
        "\n",
        "1. Write a function `multi_bce()` that computes the multi-target BCE loss.\n",
        "\n",
        "2. Print the loss of your untrained model on the training dataset (should be around $0.3251$)\n"
      ]
    },
    {
      "cell_type": "code",
      "execution_count": 21,
      "metadata": {
        "id": "E3PN9n6-a9ko"
      },
      "outputs": [
        {
          "name": "stdout",
          "output_type": "stream",
          "text": [
            "Loss of the untrained model on the training dataset: 2.3025851249694824\n"
          ]
        }
      ],
      "source": [
        "# 1. Define the multiy-class binary cross-entropy loss function\n",
        "def multi_bce(y_pred, y_true):\n",
        "    # Use log to compute the log of the predicted probabilities\n",
        "    log_y_pred = torch.log(y_pred)\n",
        "    \n",
        "    # Compute the loss: -y_true * log(y_pred) for each class\n",
        "    loss = -torch.sum(y_true * log_y_pred, dim=1)  # sum over classes for each sample\n",
        "    \n",
        "    # Return the mean loss across all samples\n",
        "    return torch.mean(loss)\n",
        "\n",
        "loss_fn = multi_bce  # Initialize the loss function\n",
        "y_pred = model(x_train)  # Get predictions\n",
        "loss = loss_fn(y_pred, y_train)  # Compute loss\n",
        "\n",
        "# 2. Print the loss of the untrained model on the training set\n",
        "print(f\"Loss of the untrained model on the training dataset: {loss.item()}\")\n"
      ]
    },
    {
      "cell_type": "markdown",
      "metadata": {
        "id": "8s7Q2HrSavyL"
      },
      "source": [
        "### Part 4 - Training (10 points)\n",
        "\n",
        "1. Train a multi-target logisitc regression on the digits dataset to classify images of digits. Use the model you just constructed. Write your own gradient descent loop.\n",
        "\n",
        "2. Plot the loss trace (did it converge?) and print the test __accuracy__. The test __accuracy__ needs to be above 0.95."
      ]
    },
    {
      "cell_type": "code",
      "execution_count": 22,
      "metadata": {
        "id": "3zGPTIMda7u4"
      },
      "outputs": [
        {
          "name": "stdout",
          "output_type": "stream",
          "text": [
            "Epoch 100/1000, Loss: 0.16450966438554254\n",
            "Epoch 200/1000, Loss: 0.11722844995786814\n",
            "Epoch 300/1000, Loss: 0.09551624452902985\n",
            "Epoch 400/1000, Loss: 0.08199106119669075\n",
            "Epoch 500/1000, Loss: 0.07244072486023304\n",
            "Epoch 600/1000, Loss: 0.0652245265913003\n",
            "Epoch 700/1000, Loss: 0.05952936141509203\n",
            "Epoch 800/1000, Loss: 0.05489217041922101\n",
            "Epoch 900/1000, Loss: 0.051025817782524595\n",
            "Epoch 1000/1000, Loss: 0.047741393330069944\n"
          ]
        },
        {
          "data": {
            "image/png": "[encoded data removed]",
            "text/plain": [
              "<Figure size 640x480 with 1 Axes>"
            ]
          },
          "metadata": {},
          "output_type": "display_data"
        },
        {
          "name": "stdout",
          "output_type": "stream",
          "text": [
            "Test Accuracy: 98.25%\n"
          ]
        }
      ],
      "source": [
        "# Training the model\n",
        "\n",
        "# Setup parameters\n",
        "learning_rate = 0.01  # Learning rate\n",
        "num_iters = 1000  # Number of iterations\n",
        "optimizer = torch.optim.SGD(model.parameters(), lr=learning_rate) # Define the optimizer\n",
        "\n",
        "loss_history = [] # Store the loss values\n",
        "\n",
        "# Gradient Descent Loop\n",
        "for i in range(num_iters):\n",
        "    \n",
        "    optimizer.zero_grad() # zero the parameter gradients\n",
        "\n",
        "    y_pred = model(x_train) # Forward pass\n",
        "\n",
        "    loss = loss_fn(y_pred, y_train) # Compute the loss\n",
        "\n",
        "    # Backward pass\n",
        "    loss.backward()\n",
        "    optimizer.step()\n",
        "\n",
        "    # Track the loss\n",
        "    loss_history.append(loss.item())\n",
        "\n",
        "    if (i + 1) % 100 == 0:\n",
        "        print(f\"Epoch {i + 1}/{num_iters}, Loss: {loss.item()}\")\n",
        "\n",
        "# Plot the loss\n",
        "plt.plot(loss_history)\n",
        "plt.xlabel(\"Iterations\")\n",
        "plt.ylabel(\"Loss\")\n",
        "plt.title(\"Loss trace\")\n",
        "plt.show()\n",
        "\n",
        "\n",
        "# Evaluate the model on the test set\n",
        "with torch.no_grad():\n",
        "    y_pred_test = model(x_test)\n",
        "    test_predictions = model.classify(x_test)\n",
        "\n",
        "# Calculate accuracy\n",
        "correct = torch.sum(test_predictions == torch.argmax(y_test, axis=1)).item()\n",
        "accuracy = correct / len(y_test)\n",
        "\n",
        "#Print the accuracy\n",
        "print(f\"Test Accuracy: {test_accuracy * 100:.2f}%\")"
      ]
    },
    {
      "cell_type": "markdown",
      "metadata": {},
      "source": [
        "2. The model does converge as can be seen from the plot. The loss rate of decrease after epoch 400, after is very minimal. Also due to the elbow shape of the loss trace plot, and the accuracy being above 95% the model does converge. "
      ]
    }
  ],
  "metadata": {
    "colab": {
      "provenance": []
    },
    "kernelspec": {
      "display_name": "hw1_env",
      "language": "python",
      "name": "python3"
    },
    "language_info": {
      "codemirror_mode": {
        "name": "ipython",
        "version": 3
      },
      "file_extension": ".py",
      "mimetype": "text/x-python",
      "name": "python",
      "nbconvert_exporter": "python",
      "pygments_lexer": "ipython3",
      "version": "3.10.16"
    }
  },
  "nbformat": 4,
  "nbformat_minor": 0
}
